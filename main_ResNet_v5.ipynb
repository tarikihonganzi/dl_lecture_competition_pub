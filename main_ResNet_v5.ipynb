{
 "cells": [
  {
   "cell_type": "code",
   "execution_count": 51,
   "metadata": {},
   "outputs": [],
   "source": [
    "import re\n",
    "import random\n",
    "import time\n",
    "from statistics import mode\n",
    "\n",
    "from PIL import Image, ImageStat\n",
    "from tqdm import tqdm\n",
    "import numpy as np\n",
    "import pandas\n",
    "import torch\n",
    "import torch.nn as nn\n",
    "from torch.optim import lr_scheduler\n",
    "import torchvision\n",
    "from torchvision import transforms"
   ]
  },
  {
   "cell_type": "code",
   "execution_count": 52,
   "metadata": {},
   "outputs": [],
   "source": [
    "import matplotlib.pyplot as plt"
   ]
  },
  {
   "cell_type": "code",
   "execution_count": 53,
   "metadata": {},
   "outputs": [
    {
     "name": "stdout",
     "output_type": "stream",
     "text": [
      "device: cuda\n"
     ]
    }
   ],
   "source": [
    "device = \"cuda\" if torch.cuda.is_available() else \"cpu\"\n",
    "print(f\"device: {device}\")"
   ]
  },
  {
   "cell_type": "code",
   "execution_count": 54,
   "metadata": {},
   "outputs": [],
   "source": [
    "def set_seed(seed):\n",
    "    random.seed(seed)\n",
    "    np.random.seed(seed)\n",
    "    torch.manual_seed(seed)\n",
    "    torch.cuda.manual_seed(seed)\n",
    "    torch.cuda.manual_seed_all(seed)\n",
    "    torch.backends.cudnn.deterministic = True\n",
    "    torch.backends.cudnn.benchmark = False"
   ]
  },
  {
   "cell_type": "code",
   "execution_count": 55,
   "metadata": {},
   "outputs": [],
   "source": [
    "def process_text_adv(text):\n",
    "    # lowercase\n",
    "    text = text.lower()\n",
    "\n",
    "    # 数詞を数字に変換\n",
    "    num_word_to_digit = {\n",
    "        'zero': '0', 'one': '1', 'two': '2', 'three': '3', 'four': '4',\n",
    "        'five': '5', 'six': '6', 'seven': '7', 'eight': '8', 'nine': '9',\n",
    "        'ten': '10', \n",
    "    }\n",
    "    for word, digit in num_word_to_digit.items():\n",
    "        text = text.replace(word, digit)\n",
    "\n",
    "    # 小数点のピリオドを削除\n",
    "    text = re.sub(r'(?<!\\d)\\.(?!\\d)', '', text)\n",
    "\n",
    "    # 冠詞の削除\n",
    "    text = re.sub(r'\\b(a|an|the)\\b', '', text)\n",
    "\n",
    "    # 短縮形のカンマの追加\n",
    "    contractions = {\n",
    "        \"dont\": \"don't\", \"isnt\": \"isn't\", \"arent\": \"aren't\", \"wont\": \"won't\",\n",
    "        \"cant\": \"can't\", \"wouldnt\": \"wouldn't\", \"couldnt\": \"couldn't\", \"whats\": \"what's\",\n",
    "        \"thats\": \"that's\", \"whos\": \"who's\", \"wheres\": \"where's\", \"whens\": \"when's\",\n",
    "        \"please\":\"\", \"could you\": \"can you\", \"could i\": \"can i\", \"could we\": \"can we\",\n",
    "    }\n",
    "\n",
    "    contractions_2 = {\n",
    "        \"theatre\" : \"theater\", \"colour\" : \"color\", \"centre\" : \"center\", \"favourite\" : \"favorite\",\n",
    "        \"travelling\" : \"traveling\", \"counselling\" : \"counseling\", \"metre\" : \"meter\",\n",
    "        \"cancelled\" : \"canceled\", \"labour\" : \"labor\", \"organisation\" : \"organization\",\n",
    "        \"calibre\" : \"caliber\", \"cheque\" : \"check\", \"manoeuvre\" : \"maneuver\",\n",
    "        \"neighbour\" : \"neighbor\", \"grey\" : \"gray\", \"dialogue\" : \"dialog\",\n",
    "    }\n",
    "\n",
    "    contractions_3 = {\n",
    "        \"what is\": \"what's\", \"who is\": \"who's\", \"where is\": \"where's\", \"when is\": \"when's\",\n",
    "        \"how is\": \"how's\", \"it is\": \"it's\", \"he is\": \"he's\", \"she is\": \"she's\",\n",
    "        \"that is\": \"that's\", \"there is\": \"there's\", \"here is\": \"here's\",\n",
    "        \"i am\": \"i'm\", \"you are\": \"you're\", \"we are\": \"we're\", \"they are\": \"they're\",\n",
    "        \"i have\": \"i've\", \"you have\": \"you've\", \"we have\": \"we've\", \"they have\": \"they've\",\n",
    "        \"i will\": \"i'll\", \"you will\": \"you'll\",\n",
    "    }\n",
    "    # contractions_3 = {\n",
    "    #     \"what's\" : \"what is\", \"who's\" : \"who is\", \"where's\" : \"where is\", \"when's\" : \"when is\",\n",
    "    #     \"how's\" : \"how is\", \"it's\" : \"it is\", \"he's\" : \"he is\", \"she's\" : \"she is\",\n",
    "    #     \"that's\" : \"that is\", \"there's\" : \"there is\", \"here's\" : \"here is\",\n",
    "    #     \"i'm\" : \"i am\", \"you're\" : \"you are\", \"we're\" : \"we are\", \"they're\" : \"they are\",\n",
    "    #     \"i've\" : \"i have\", \"you've\" : \"you have\", \"we've\" : \"we have\", \"they've\" : \"they have\",\n",
    "    #     \"i'll\" : \"i will\", \"you'll\" : \"you will\",\n",
    "    # }\n",
    " \n",
    "    for contraction, correct in contractions.items():\n",
    "        text = text.replace(contraction, correct)\n",
    "    for contraction, correct in contractions_2.items():\n",
    "        text = text.replace(contraction, correct)\n",
    "    for contraction, correct in contractions_3.items():\n",
    "        text = text.replace(contraction, correct)\n",
    "\n",
    "    # 句読点をスペースに変換\n",
    "    text = re.sub(r\"[^\\w\\s':]\", ' ', text)\n",
    "\n",
    "    # 句読点をスペースに変換\n",
    "    text = re.sub(r'\\s+,', ',', text)\n",
    "\n",
    "    # 連続するスペースを1つに変換\n",
    "    text = re.sub(r'\\s+', ' ', text).strip()\n",
    "\n",
    "    return text"
   ]
  },
  {
   "cell_type": "code",
   "execution_count": 56,
   "metadata": {},
   "outputs": [],
   "source": [
    "def process_text(text):\n",
    "    # lowercase\n",
    "    text = text.lower()\n",
    "\n",
    "    # 数詞を数字に変換\n",
    "    num_word_to_digit = {\n",
    "        'zero': '0', 'one': '1', 'two': '2', 'three': '3', 'four': '4',\n",
    "        'five': '5', 'six': '6', 'seven': '7', 'eight': '8', 'nine': '9',\n",
    "        'ten': '10'\n",
    "    }\n",
    "    for word, digit in num_word_to_digit.items():\n",
    "        text = text.replace(word, digit)\n",
    "\n",
    "    # 小数点のピリオドを削除\n",
    "    text = re.sub(r'(?<!\\d)\\.(?!\\d)', '', text)\n",
    "\n",
    "    # 冠詞の削除\n",
    "    text = re.sub(r'\\b(a|an|the)\\b', '', text)\n",
    "\n",
    "    # 短縮形のカンマの追加\n",
    "    contractions = {\n",
    "        \"dont\": \"don't\", \"isnt\": \"isn't\", \"arent\": \"aren't\", \"wont\": \"won't\",\n",
    "        \"cant\": \"can't\", \"wouldnt\": \"wouldn't\", \"couldnt\": \"couldn't\"\n",
    "    }\n",
    "    for contraction, correct in contractions.items():\n",
    "        text = text.replace(contraction, correct)\n",
    "\n",
    "    # 句読点をスペースに変換\n",
    "    text = re.sub(r\"[^\\w\\s':]\", ' ', text)\n",
    "\n",
    "    # 句読点をスペースに変換\n",
    "    text = re.sub(r'\\s+,', ',', text)\n",
    "\n",
    "    # 連続するスペースを1つに変換\n",
    "    text = re.sub(r'\\s+', ' ', text).strip()\n",
    "\n",
    "    return text"
   ]
  },
  {
   "cell_type": "code",
   "execution_count": 57,
   "metadata": {},
   "outputs": [],
   "source": [
    "# 1. データローダーの作成\n",
    "class VQADataset(torch.utils.data.Dataset):\n",
    "    def __init__(self, df_path, image_dir, transform=None, transform_adv=None, answer=True):\n",
    "        self.transform = transform  # 画像の前処理\n",
    "        self.transform_adv = transform_adv  # 画像の前処理\n",
    "        self.image_dir = image_dir  # 画像ファイルのディレクトリ\n",
    "        self.df = pandas.read_json(df_path)  # 画像ファイルのパス，question, answerを持つDataFrame\n",
    "        print(f\"df shape: {self.df.shape}\")\n",
    "        \n",
    "        self.answer = answer\n",
    "\n",
    "        # question / answerの辞書を作成\n",
    "        self.question2idx = {}\n",
    "        self.answer2idx = {}\n",
    "        self.idx2question = {}\n",
    "        self.idx2answer = {}\n",
    "        c1 = c2 = c3 = c4 = c5 = c6 = c7 = 0\n",
    "\n",
    "        # 質問文の最大長を取得\n",
    "        self.max_question_length = 0\n",
    "\n",
    "        # 質問文に含まれる単語を辞書に追加\n",
    "        for question in self.df[\"question\"]:\n",
    "            question = process_text_adv(question)\n",
    "            words = question.split(\" \")\n",
    "\n",
    "            if len(words) > self.max_question_length:\n",
    "                self.max_question_length = len(words)\n",
    "            \n",
    "            for idex, word in enumerate(words):            \n",
    "                if word not in self.question2idx:\n",
    "                    self.question2idx[word] = len(self.question2idx)\n",
    "\n",
    "        \n",
    "        self.idx2question = {v: k for k, v in self.question2idx.items()}  # 逆変換用の辞書(question)\n",
    "\n",
    "        self.answer2idx[\"<unk>\"] = 0\n",
    "\n",
    "        if self.answer:\n",
    "            # 回答に含まれる単語を辞書に追加\n",
    "            for answers in self.df[\"answers\"]:\n",
    "                for answer in answers:\n",
    "                    word = answer[\"answer\"]\n",
    "                    word = process_text(word)\n",
    "                    if word not in self.answer2idx:\n",
    "                        self.answer2idx[word] = len(self.answer2idx)\n",
    "            \n",
    "            self.idx2answer = {v: k for k, v in self.answer2idx.items()}  # 逆変換用の辞書(answer)\n",
    "\n",
    "            # print(f\"answer{self.idx2answer}\")\n",
    "\n",
    "    def update_dict(self, dataset):\n",
    "        \"\"\"\n",
    "        検証用データ，テストデータの辞書を訓練データの辞書に更新する．\n",
    "\n",
    "        Parameters\n",
    "        ----------\n",
    "        dataset : Dataset\n",
    "            訓練データのDataset\n",
    "        \"\"\"\n",
    "        self.question2idx = dataset.question2idx\n",
    "        self.answer2idx = dataset.answer2idx\n",
    "        self.idx2question = dataset.idx2question\n",
    "        self.idx2answer = dataset.idx2answer\n",
    "\n",
    "    def __getitem__(self, idx, isKL=False):\n",
    "        \"\"\"\n",
    "        対応するidxのデータ（画像，質問，回答）を取得．\n",
    "\n",
    "        Parameters\n",
    "        ----------\n",
    "        idx : int\n",
    "            取得するデータのインデックス\n",
    "\n",
    "        Returns\n",
    "        -------\n",
    "        image : torch.Tensor  (C, H, W)\n",
    "            画像データ\n",
    "        question : torch.Tensor  (vocab_size)\n",
    "            質問文をone-hot表現に変換したもの\n",
    "        answers : torch.Tensor  (n_answer)\n",
    "            10人の回答者の回答のid\n",
    "        mode_answer_idx : torch.Tensor  (1)\n",
    "            10人の回答者の回答の中で最頻値の回答のid\n",
    "        \"\"\"\n",
    "        image = Image.open(f\"{self.image_dir}/{self.df['image'][idx]}\").convert(\"RGB\")\n",
    "        \n",
    "        # image = self.transform(image)\n",
    "        question = np.zeros(len(self.idx2question) + 1)  # 未知語用の要素を追加\n",
    "        question_vector = []\n",
    "        # question_words = self.df[\"question\"][idx].split(\" \")\n",
    "        question_text = process_text_adv(self.df[\"question\"][idx])\n",
    "        question_words = question_text.split(\" \")\n",
    "\n",
    "        is_positional_question = False\n",
    "\n",
    "        for i in range(self.max_question_length - len(question_words)):\n",
    "            question_vector.insert(0, 0)\n",
    "    \n",
    "        for word in question_words:\n",
    "            if not is_positional_question and (word == \"where\" or word == \"right\" or word == \"left\" or word == \"top\" or word == \"bottom\" or word == \"position\"):\n",
    "                is_positional_question = True  \n",
    "            try:\n",
    "                question[self.question2idx[word]] = 1  # one-hot表現に変換\n",
    "                question_vector.append(self.question2idx[word])\n",
    "            except KeyError:\n",
    "                question[-1] = 1  # 未知語\n",
    "                question_vector.append(0)\n",
    "        \n",
    "        # if is_positional_question:\n",
    "        #     print(f\"positional question: {question_words}\")\n",
    "        # else:\n",
    "        #     print(f\"NOT positional question: {question_words}\")\n",
    "\n",
    "        if self.answer:\n",
    "            answers_prevector = np.zeros(len(self.answer2idx))\n",
    "            answers = [self.answer2idx[process_text(answer[\"answer\"])] for answer in self.df[\"answers\"][idx]]\n",
    "            for answer in answers:\n",
    "                answers_prevector[answer] += 1\n",
    "            sum_answers = max(np.sum(answers_prevector), 1e-10)\n",
    "            answers_vector = answers_prevector / sum_answers\n",
    "            mode_answer_idx = mode(answers)  # 最頻値を取得（正解ラベル）\n",
    "\n",
    "            if is_positional_question or self.transform_adv is None:\n",
    "                image = self.transform(image)\n",
    "            else:\n",
    "                image = self.transform_adv(image)\n",
    "\n",
    "            return image, torch.Tensor(question), torch.Tensor(answers), int(mode_answer_idx), torch.Tensor(answers_vector), torch.LongTensor(question_vector)\n",
    "\n",
    "        else:\n",
    "\n",
    "            if is_positional_question or self.transform_adv is None:\n",
    "                image = self.transform(image)\n",
    "            else:\n",
    "                image = self.transform_adv(image)\n",
    "\n",
    "            return image, torch.Tensor(question), torch.LongTensor(question_vector)\n",
    "\n",
    "    def __len__(self):\n",
    "        return len(self.df)"
   ]
  },
  {
   "cell_type": "code",
   "execution_count": 58,
   "metadata": {},
   "outputs": [],
   "source": [
    "def loadVQAData(df_path, image_dir, transform=None, answer=True):\n",
    "    return VQADataset(df_path, image_dir, transform, answer)"
   ]
  },
  {
   "cell_type": "code",
   "execution_count": 59,
   "metadata": {},
   "outputs": [],
   "source": [
    "# 2. 評価指標の実装\n",
    "# 簡単にするならBCEを利用する\n",
    "def VQA_criterion(batch_pred: torch.Tensor, batch_answers: torch.Tensor):\n",
    "    total_acc = 0.\n",
    "\n",
    "    for pred, answers in zip(batch_pred, batch_answers):\n",
    "        acc = 0.\n",
    "        for i in range(len(answers)):\n",
    "            num_match = 0\n",
    "            for j in range(len(answers)):\n",
    "                if i == j:\n",
    "                    continue\n",
    "                if pred == answers[j]:\n",
    "                    num_match += 1\n",
    "            acc += min(num_match / 3, 1)\n",
    "        total_acc += acc / 10\n",
    "\n",
    "    return total_acc / len(batch_pred)"
   ]
  },
  {
   "cell_type": "code",
   "execution_count": 60,
   "metadata": {},
   "outputs": [],
   "source": [
    "# 3. モデルのの実装\n",
    "# ResNetを利用できるようにしておく\n",
    "class BasicBlock(nn.Module):\n",
    "    expansion = 1\n",
    "\n",
    "    def __init__(self, in_channels: int, out_channels: int, stride: int = 1):\n",
    "        super().__init__()\n",
    "\n",
    "        self.conv1 = nn.Conv2d(in_channels, out_channels, kernel_size=3, stride=stride, padding=1)\n",
    "        self.bn1 = nn.BatchNorm2d(out_channels)\n",
    "        self.conv2 = nn.Conv2d(out_channels, out_channels, kernel_size=3, stride=1, padding=1)\n",
    "        self.bn2 = nn.BatchNorm2d(out_channels)\n",
    "        self.relu = nn.ReLU(inplace=True)\n",
    "\n",
    "        self.shortcut = nn.Sequential()\n",
    "        if stride != 1 or in_channels != out_channels:\n",
    "            self.shortcut = nn.Sequential(\n",
    "                nn.Conv2d(in_channels, out_channels, kernel_size=1, stride=stride),\n",
    "                nn.BatchNorm2d(out_channels)\n",
    "            )\n",
    "\n",
    "    def forward(self, x):\n",
    "        residual = x\n",
    "        out = self.relu(self.bn1(self.conv1(x)))\n",
    "        out = self.bn2(self.conv2(out))\n",
    "\n",
    "        out += self.shortcut(residual)\n",
    "        out = self.relu(out)\n",
    "\n",
    "        return out"
   ]
  },
  {
   "cell_type": "code",
   "execution_count": 61,
   "metadata": {},
   "outputs": [],
   "source": [
    "class BottleneckBlock(nn.Module):\n",
    "    expansion = 4\n",
    "\n",
    "    def __init__(self, in_channels: int, out_channels: int, stride: int = 1):\n",
    "        super().__init__()\n",
    "\n",
    "        self.conv1 = nn.Conv2d(in_channels, out_channels, kernel_size=1, stride=1)\n",
    "        self.bn1 = nn.BatchNorm2d(out_channels)\n",
    "        self.conv2 = nn.Conv2d(out_channels, out_channels, kernel_size=3, stride=stride, padding=1)\n",
    "        self.bn2 = nn.BatchNorm2d(out_channels)\n",
    "        self.conv3 = nn.Conv2d(out_channels, out_channels * self.expansion, kernel_size=1, stride=1)\n",
    "        self.bn3 = nn.BatchNorm2d(out_channels * self.expansion)\n",
    "        self.relu = nn.ReLU(inplace=True)\n",
    "\n",
    "        self.shortcut = nn.Sequential()\n",
    "        if stride != 1 or in_channels != out_channels * self.expansion:\n",
    "            self.shortcut = nn.Sequential(\n",
    "                nn.Conv2d(in_channels, out_channels * self.expansion, kernel_size=1, stride=stride),\n",
    "                nn.BatchNorm2d(out_channels * self.expansion)\n",
    "            )\n",
    "\n",
    "    def forward(self, x):\n",
    "        residual = x\n",
    "        out = self.relu(self.bn1(self.conv1(x)))\n",
    "        out = self.relu(self.bn2(self.conv2(out)))\n",
    "        out = self.bn3(self.conv3(out))\n",
    "\n",
    "        out += self.shortcut(residual)\n",
    "        out = self.relu(out)\n",
    "\n",
    "        return out"
   ]
  },
  {
   "cell_type": "code",
   "execution_count": 62,
   "metadata": {},
   "outputs": [],
   "source": [
    "class ResNet(nn.Module):\n",
    "    def __init__(self, block, layers):\n",
    "        super().__init__()\n",
    "        self.in_channels = 64\n",
    "\n",
    "        self.conv1 = nn.Conv2d(3, 64, kernel_size=7, stride=2, padding=3)\n",
    "        self.bn1 = nn.BatchNorm2d(64)\n",
    "        self.relu = nn.ReLU(inplace=True)\n",
    "        self.maxpool = nn.MaxPool2d(kernel_size=3, stride=2, padding=1)\n",
    "\n",
    "        self.layer1 = self._make_layer(block, layers[0], 64)\n",
    "        self.layer2 = self._make_layer(block, layers[1], 128, stride=2)\n",
    "        self.layer3 = self._make_layer(block, layers[2], 256, stride=2)\n",
    "        self.layer4 = self._make_layer(block, layers[3], 512, stride=2)\n",
    "\n",
    "        self.avgpool = nn.AdaptiveAvgPool2d((1, 1))\n",
    "        self.fc = nn.Linear(512 * block.expansion, 512)\n",
    "\n",
    "    def _make_layer(self, block, blocks, out_channels, stride=1):\n",
    "        layers = []\n",
    "        layers.append(block(self.in_channels, out_channels, stride))\n",
    "        self.in_channels = out_channels * block.expansion\n",
    "        for _ in range(1, blocks):\n",
    "            layers.append(block(self.in_channels, out_channels))\n",
    "\n",
    "        return nn.Sequential(*layers)\n",
    "\n",
    "    def forward(self, x):\n",
    "        x = self.relu(self.bn1(self.conv1(x)))\n",
    "        x = self.maxpool(x)\n",
    "\n",
    "        x = self.layer1(x)\n",
    "        x = self.layer2(x)\n",
    "        x = self.layer3(x)\n",
    "        x = self.layer4(x)\n",
    "\n",
    "        x = self.avgpool(x)\n",
    "        x = x.view(x.size(0), -1)\n",
    "        x = self.fc(x)\n",
    "\n",
    "        return x"
   ]
  },
  {
   "cell_type": "code",
   "execution_count": 63,
   "metadata": {},
   "outputs": [],
   "source": [
    "def ResNet18():\n",
    "    return ResNet(BasicBlock, [2, 2, 2, 2])"
   ]
  },
  {
   "cell_type": "code",
   "execution_count": 64,
   "metadata": {},
   "outputs": [],
   "source": [
    "def ResNet50():\n",
    "    return ResNet(BottleneckBlock, [3, 4, 6, 3])"
   ]
  },
  {
   "cell_type": "code",
   "execution_count": 65,
   "metadata": {},
   "outputs": [],
   "source": [
    "from torchvision.models import resnet34, ResNet34_Weights, Wide_ResNet50_2_Weights, wide_resnet50_2\n",
    "\n",
    "class VQAModel(nn.Module):\n",
    "    def __init__(self, vocab_size: int, n_answer: int):\n",
    "        super().__init__()\n",
    "        # self.resnet = ResNet18()\n",
    "        self.resnet = torchvision.models.resnet34(weights=ResNet34_Weights.DEFAULT)\n",
    "        # self.resnet = torchvision.models.wide_resnet50_2(weights=Wide_ResNet50_2_Weights.DEFAULT)\n",
    "        self.resnet.fc = nn.Linear(512, 512)\n",
    "        self.text_encoder = nn.Linear(vocab_size, 512)\n",
    "\n",
    "        self.word_embeddings = nn.Embedding(vocab_size, 512, padding_idx=0)\n",
    "        # batch_first=Trueが大事！\n",
    "        self.lstm = nn.LSTM(512, 512, batch_first=True)\n",
    "\n",
    "        self.hidden2tag = nn.Linear(512, 512)\n",
    "\n",
    "        self.fc = nn.Sequential(\n",
    "            nn.Linear(1024, 512),\n",
    "            nn.LeakyReLU(inplace=True),\n",
    "            nn.Linear(512, n_answer)\n",
    "        )\n",
    "\n",
    "    def forward(self, image, question):\n",
    "        image_feature = self.resnet(image)  # 画像の特徴量\n",
    "        # question_feature = self.text_encoder(question)  # テキストの特徴量\n",
    "\n",
    "        embeds = self.word_embeddings(question)\n",
    "        #embeds.size() = (batch_size × len(sentence) × embedding_dim)\n",
    "        _, lstm_out = self.lstm(embeds)\n",
    "        # x = torch.cat([image_feature, lstm_out[0].squeeze()], dim=1)\n",
    "\n",
    "        tag_space = self.hidden2tag(lstm_out[0])\n",
    "        question_feature = nn.functional.leaky_relu(torch.squeeze((tag_space + lstm_out[0]), dim=0))\n",
    "\n",
    "        # x = torch.cat([image_feature, tag_space.squeeze()], dim=1)\n",
    "        x = torch.cat([image_feature, question_feature], dim=1)\n",
    "        x = self.fc(x)\n",
    "\n",
    "        return x"
   ]
  },
  {
   "cell_type": "code",
   "execution_count": 66,
   "metadata": {},
   "outputs": [],
   "source": [
    "def softmax(x, axis=1):\n",
    "    x -= x.max(axis, keepdims=True) # expのoverflowを防ぐ\n",
    "    x_exp = np.exp(x)\n",
    "    return x_exp / x_exp.sum(axis, keepdims=True)"
   ]
  },
  {
   "cell_type": "code",
   "execution_count": 67,
   "metadata": {},
   "outputs": [],
   "source": [
    "# 4. 学習の実装\n",
    "def train_KL(model, dataloader, optimizer, criterion, device):\n",
    "    model.train()\n",
    "    eps = 1e-8\n",
    "\n",
    "    total_loss = 0\n",
    "    total_acc = 0\n",
    "    simple_acc = 0\n",
    "\n",
    "    start = time.time()\n",
    "    for image, question, answers, mode_answer, answers_vector , question_vector in tqdm(dataloader):\n",
    "        image, question, answer, mode_answer, answers_vector, question_vector = \\\n",
    "            image.to(device), question.to(device), answers.to(device), mode_answer.to(device), answers_vector.to(device), question_vector.to(device)\n",
    "\n",
    "        pred = model(image, question_vector)\n",
    "        nn_softmax = nn.Softmax(dim=1)\n",
    "        softmax_pred = nn_softmax(pred)\n",
    "\n",
    "        loss = criterion(torch.log(softmax_pred + eps), answers_vector + eps)\n",
    "\n",
    "        optimizer.zero_grad()\n",
    "        loss.backward()\n",
    "        optimizer.step()\n",
    "\n",
    "        total_loss += loss.item()\n",
    "        total_acc += VQA_criterion(pred.argmax(1), answers)  # VQA accuracy\n",
    "        simple_acc += (pred.argmax(1) == mode_answer).float().mean().item()  # simple accuracy\n",
    "\n",
    "    return total_loss / len(dataloader), total_acc / len(dataloader), simple_acc / len(dataloader), time.time() - start"
   ]
  },
  {
   "cell_type": "code",
   "execution_count": 68,
   "metadata": {},
   "outputs": [],
   "source": [
    "# 4. 学習の実装_normal\n",
    "def train(model, dataloader, optimizer, criterion, device):\n",
    "    model.train()\n",
    "\n",
    "    total_loss = 0\n",
    "    total_acc = 0\n",
    "    simple_acc = 0\n",
    "\n",
    "    start = time.time()\n",
    "    for image, question, answers, mode_answer, answers_vector in tqdm(dataloader):\n",
    "        image, question, answer, mode_answer, answers_vector = \\\n",
    "            image.to(device), question.to(device), answers.to(device), mode_answer.to(device), answers_vector.to(device)\n",
    "\n",
    "        pred = model(image, question)\n",
    "        loss = criterion(pred, mode_answer.squeeze())\n",
    "\n",
    "        optimizer.zero_grad()\n",
    "        loss.backward()\n",
    "        optimizer.step()\n",
    "\n",
    "        total_loss += loss.item()\n",
    "        total_acc += VQA_criterion(pred.argmax(1), answers)  # VQA accuracy\n",
    "        simple_acc += (pred.argmax(1) == mode_answer).float().mean().item()  # simple accuracy\n",
    "\n",
    "    return total_loss / len(dataloader), total_acc / len(dataloader), simple_acc / len(dataloader), time.time() - start"
   ]
  },
  {
   "cell_type": "code",
   "execution_count": 69,
   "metadata": {},
   "outputs": [],
   "source": [
    "def eval(model, dataloader, optimizer, criterion, device):\n",
    "    model.eval()\n",
    "\n",
    "    total_loss = 0\n",
    "    total_acc = 0\n",
    "    simple_acc = 0\n",
    "\n",
    "    start = time.time()\n",
    "    for image, question, answers, mode_answer, answers_vector in dataloader:\n",
    "        image, question, answer, mode_answer, answers_vector = \\\n",
    "            image.to(device), question.to(device), answers.to(device), mode_answer.to(device), answers_vector.to(device)\n",
    "\n",
    "        pred = model(image, question)\n",
    "        loss = criterion(pred, mode_answer.squeeze())\n",
    "\n",
    "        total_loss += loss.item()\n",
    "        total_acc += VQA_criterion(pred.argmax(1), answers)  # VQA accuracy\n",
    "        simple_acc += (pred.argmax(1) == mode_answer).mean().item()  # simple accuracy\n",
    "\n",
    "    return total_loss / len(dataloader), total_acc / len(dataloader), simple_acc / len(dataloader), time.time() - start"
   ]
  },
  {
   "cell_type": "code",
   "execution_count": 70,
   "metadata": {},
   "outputs": [
    {
     "name": "stdout",
     "output_type": "stream",
     "text": [
      "df shape: (19873, 3)\n",
      "df shape: (4969, 2)\n"
     ]
    }
   ],
   "source": [
    "set_seed(42)\n",
    "\n",
    "# dataloader / model\n",
    "transform_train = transforms.Compose([\n",
    "    transforms.Resize((224, 224)),\n",
    "    transforms.ToTensor(),\n",
    "    transforms.Normalize(\n",
    "        mean=[0.485, 0.456, 0.406],\n",
    "        std=[0.229, 0.224, 0.225]\n",
    "    )\n",
    "])\n",
    "\n",
    "transform_train_adv = transforms.Compose([\n",
    "    transforms.Resize((224, 224)),\n",
    "    transforms.RandomRotation(degrees=(-10, 10)),\n",
    "    transforms.RandomHorizontalFlip(p=1.0),\n",
    "    transforms.RandomAffine(degrees=(-10, 10), translate=(0.1, 0.1)),\n",
    "    transforms.ToTensor(),\n",
    "    transforms.Normalize(\n",
    "        mean=[0.485, 0.456, 0.406],\n",
    "        std=[0.229, 0.224, 0.225]\n",
    "    )\n",
    "])\n",
    "\n",
    "transform_test = transforms.Compose([\n",
    "    transforms.Resize((224, 224)),\n",
    "    transforms.ToTensor(),\n",
    "    transforms.Normalize(\n",
    "        mean=[0.485, 0.456, 0.406],\n",
    "        std=[0.229, 0.224, 0.225]\n",
    "    )\n",
    "])\n",
    "\n",
    "train_dataset = VQADataset(df_path=\"./data/train.json\", image_dir=\"./data/train\", transform=transform_train, transform_adv=transform_train_adv, answer=True)\n",
    "test_dataset = VQADataset(df_path=\"./data/valid.json\", image_dir=\"./data/valid\", transform=transform_test, answer=False)\n",
    "test_dataset.update_dict(train_dataset)\n",
    "\n",
    "train_loader = torch.utils.data.DataLoader(train_dataset, batch_size=128, shuffle=True)\n",
    "test_loader = torch.utils.data.DataLoader(test_dataset, batch_size=1, shuffle=False)\n"
   ]
  },
  {
   "cell_type": "code",
   "execution_count": 71,
   "metadata": {},
   "outputs": [],
   "source": [
    "# cosine scheduler\n",
    "class CosineScheduler:\n",
    "    def __init__(self, epochs, lr, warmup_length=5):\n",
    "        \"\"\"\n",
    "        Arguments\n",
    "        ---------\n",
    "        epochs : int\n",
    "            学習のエポック数．\n",
    "        lr : float\n",
    "            学習率．\n",
    "        warmup_length : int\n",
    "            warmupを適用するエポック数．\n",
    "        \"\"\"\n",
    "        self.epochs = epochs\n",
    "        self.lr = lr\n",
    "        self.warmup = warmup_length\n",
    "\n",
    "    def __call__(self, epoch):\n",
    "        \"\"\"\n",
    "        Arguments\n",
    "        ---------\n",
    "        epoch : int\n",
    "            現在のエポック数．\n",
    "        \"\"\"\n",
    "        progress = (epoch - self.warmup) / (self.epochs - self.warmup)\n",
    "        progress = np.clip(progress, 0.0, 1.0)\n",
    "        lr = self.lr * 0.5 * (1. + np.cos(np.pi * progress))\n",
    "\n",
    "        if self.warmup:\n",
    "            lr = lr * min(1., (epoch+1) / self.warmup)\n",
    "\n",
    "        return lr"
   ]
  },
  {
   "cell_type": "code",
   "execution_count": 72,
   "metadata": {},
   "outputs": [],
   "source": [
    "def set_lr(lr, optimizer):\n",
    "    for param_group in optimizer.param_groups:\n",
    "        param_group[\"lr\"] = lr"
   ]
  },
  {
   "cell_type": "code",
   "execution_count": 73,
   "metadata": {},
   "outputs": [
    {
     "name": "stdout",
     "output_type": "stream",
     "text": [
      "VQAModel(\n",
      "  (resnet): ResNet(\n",
      "    (conv1): Conv2d(3, 64, kernel_size=(7, 7), stride=(2, 2), padding=(3, 3), bias=False)\n",
      "    (bn1): BatchNorm2d(64, eps=1e-05, momentum=0.1, affine=True, track_running_stats=True)\n",
      "    (relu): ReLU(inplace=True)\n",
      "    (maxpool): MaxPool2d(kernel_size=3, stride=2, padding=1, dilation=1, ceil_mode=False)\n",
      "    (layer1): Sequential(\n",
      "      (0): BasicBlock(\n",
      "        (conv1): Conv2d(64, 64, kernel_size=(3, 3), stride=(1, 1), padding=(1, 1), bias=False)\n",
      "        (bn1): BatchNorm2d(64, eps=1e-05, momentum=0.1, affine=True, track_running_stats=True)\n",
      "        (relu): ReLU(inplace=True)\n",
      "        (conv2): Conv2d(64, 64, kernel_size=(3, 3), stride=(1, 1), padding=(1, 1), bias=False)\n",
      "        (bn2): BatchNorm2d(64, eps=1e-05, momentum=0.1, affine=True, track_running_stats=True)\n",
      "      )\n",
      "      (1): BasicBlock(\n",
      "        (conv1): Conv2d(64, 64, kernel_size=(3, 3), stride=(1, 1), padding=(1, 1), bias=False)\n",
      "        (bn1): BatchNorm2d(64, eps=1e-05, momentum=0.1, affine=True, track_running_stats=True)\n",
      "        (relu): ReLU(inplace=True)\n",
      "        (conv2): Conv2d(64, 64, kernel_size=(3, 3), stride=(1, 1), padding=(1, 1), bias=False)\n",
      "        (bn2): BatchNorm2d(64, eps=1e-05, momentum=0.1, affine=True, track_running_stats=True)\n",
      "      )\n",
      "      (2): BasicBlock(\n",
      "        (conv1): Conv2d(64, 64, kernel_size=(3, 3), stride=(1, 1), padding=(1, 1), bias=False)\n",
      "        (bn1): BatchNorm2d(64, eps=1e-05, momentum=0.1, affine=True, track_running_stats=True)\n",
      "        (relu): ReLU(inplace=True)\n",
      "        (conv2): Conv2d(64, 64, kernel_size=(3, 3), stride=(1, 1), padding=(1, 1), bias=False)\n",
      "        (bn2): BatchNorm2d(64, eps=1e-05, momentum=0.1, affine=True, track_running_stats=True)\n",
      "      )\n",
      "    )\n",
      "    (layer2): Sequential(\n",
      "      (0): BasicBlock(\n",
      "        (conv1): Conv2d(64, 128, kernel_size=(3, 3), stride=(2, 2), padding=(1, 1), bias=False)\n",
      "        (bn1): BatchNorm2d(128, eps=1e-05, momentum=0.1, affine=True, track_running_stats=True)\n",
      "        (relu): ReLU(inplace=True)\n",
      "        (conv2): Conv2d(128, 128, kernel_size=(3, 3), stride=(1, 1), padding=(1, 1), bias=False)\n",
      "        (bn2): BatchNorm2d(128, eps=1e-05, momentum=0.1, affine=True, track_running_stats=True)\n",
      "        (downsample): Sequential(\n",
      "          (0): Conv2d(64, 128, kernel_size=(1, 1), stride=(2, 2), bias=False)\n",
      "          (1): BatchNorm2d(128, eps=1e-05, momentum=0.1, affine=True, track_running_stats=True)\n",
      "        )\n",
      "      )\n",
      "      (1): BasicBlock(\n",
      "        (conv1): Conv2d(128, 128, kernel_size=(3, 3), stride=(1, 1), padding=(1, 1), bias=False)\n",
      "        (bn1): BatchNorm2d(128, eps=1e-05, momentum=0.1, affine=True, track_running_stats=True)\n",
      "        (relu): ReLU(inplace=True)\n",
      "        (conv2): Conv2d(128, 128, kernel_size=(3, 3), stride=(1, 1), padding=(1, 1), bias=False)\n",
      "        (bn2): BatchNorm2d(128, eps=1e-05, momentum=0.1, affine=True, track_running_stats=True)\n",
      "      )\n",
      "      (2): BasicBlock(\n",
      "        (conv1): Conv2d(128, 128, kernel_size=(3, 3), stride=(1, 1), padding=(1, 1), bias=False)\n",
      "        (bn1): BatchNorm2d(128, eps=1e-05, momentum=0.1, affine=True, track_running_stats=True)\n",
      "        (relu): ReLU(inplace=True)\n",
      "        (conv2): Conv2d(128, 128, kernel_size=(3, 3), stride=(1, 1), padding=(1, 1), bias=False)\n",
      "        (bn2): BatchNorm2d(128, eps=1e-05, momentum=0.1, affine=True, track_running_stats=True)\n",
      "      )\n",
      "      (3): BasicBlock(\n",
      "        (conv1): Conv2d(128, 128, kernel_size=(3, 3), stride=(1, 1), padding=(1, 1), bias=False)\n",
      "        (bn1): BatchNorm2d(128, eps=1e-05, momentum=0.1, affine=True, track_running_stats=True)\n",
      "        (relu): ReLU(inplace=True)\n",
      "        (conv2): Conv2d(128, 128, kernel_size=(3, 3), stride=(1, 1), padding=(1, 1), bias=False)\n",
      "        (bn2): BatchNorm2d(128, eps=1e-05, momentum=0.1, affine=True, track_running_stats=True)\n",
      "      )\n",
      "    )\n",
      "    (layer3): Sequential(\n",
      "      (0): BasicBlock(\n",
      "        (conv1): Conv2d(128, 256, kernel_size=(3, 3), stride=(2, 2), padding=(1, 1), bias=False)\n",
      "        (bn1): BatchNorm2d(256, eps=1e-05, momentum=0.1, affine=True, track_running_stats=True)\n",
      "        (relu): ReLU(inplace=True)\n",
      "        (conv2): Conv2d(256, 256, kernel_size=(3, 3), stride=(1, 1), padding=(1, 1), bias=False)\n",
      "        (bn2): BatchNorm2d(256, eps=1e-05, momentum=0.1, affine=True, track_running_stats=True)\n",
      "        (downsample): Sequential(\n",
      "          (0): Conv2d(128, 256, kernel_size=(1, 1), stride=(2, 2), bias=False)\n",
      "          (1): BatchNorm2d(256, eps=1e-05, momentum=0.1, affine=True, track_running_stats=True)\n",
      "        )\n",
      "      )\n",
      "      (1): BasicBlock(\n",
      "        (conv1): Conv2d(256, 256, kernel_size=(3, 3), stride=(1, 1), padding=(1, 1), bias=False)\n",
      "        (bn1): BatchNorm2d(256, eps=1e-05, momentum=0.1, affine=True, track_running_stats=True)\n",
      "        (relu): ReLU(inplace=True)\n",
      "        (conv2): Conv2d(256, 256, kernel_size=(3, 3), stride=(1, 1), padding=(1, 1), bias=False)\n",
      "        (bn2): BatchNorm2d(256, eps=1e-05, momentum=0.1, affine=True, track_running_stats=True)\n",
      "      )\n",
      "      (2): BasicBlock(\n",
      "        (conv1): Conv2d(256, 256, kernel_size=(3, 3), stride=(1, 1), padding=(1, 1), bias=False)\n",
      "        (bn1): BatchNorm2d(256, eps=1e-05, momentum=0.1, affine=True, track_running_stats=True)\n",
      "        (relu): ReLU(inplace=True)\n",
      "        (conv2): Conv2d(256, 256, kernel_size=(3, 3), stride=(1, 1), padding=(1, 1), bias=False)\n",
      "        (bn2): BatchNorm2d(256, eps=1e-05, momentum=0.1, affine=True, track_running_stats=True)\n",
      "      )\n",
      "      (3): BasicBlock(\n",
      "        (conv1): Conv2d(256, 256, kernel_size=(3, 3), stride=(1, 1), padding=(1, 1), bias=False)\n",
      "        (bn1): BatchNorm2d(256, eps=1e-05, momentum=0.1, affine=True, track_running_stats=True)\n",
      "        (relu): ReLU(inplace=True)\n",
      "        (conv2): Conv2d(256, 256, kernel_size=(3, 3), stride=(1, 1), padding=(1, 1), bias=False)\n",
      "        (bn2): BatchNorm2d(256, eps=1e-05, momentum=0.1, affine=True, track_running_stats=True)\n",
      "      )\n",
      "      (4): BasicBlock(\n",
      "        (conv1): Conv2d(256, 256, kernel_size=(3, 3), stride=(1, 1), padding=(1, 1), bias=False)\n",
      "        (bn1): BatchNorm2d(256, eps=1e-05, momentum=0.1, affine=True, track_running_stats=True)\n",
      "        (relu): ReLU(inplace=True)\n",
      "        (conv2): Conv2d(256, 256, kernel_size=(3, 3), stride=(1, 1), padding=(1, 1), bias=False)\n",
      "        (bn2): BatchNorm2d(256, eps=1e-05, momentum=0.1, affine=True, track_running_stats=True)\n",
      "      )\n",
      "      (5): BasicBlock(\n",
      "        (conv1): Conv2d(256, 256, kernel_size=(3, 3), stride=(1, 1), padding=(1, 1), bias=False)\n",
      "        (bn1): BatchNorm2d(256, eps=1e-05, momentum=0.1, affine=True, track_running_stats=True)\n",
      "        (relu): ReLU(inplace=True)\n",
      "        (conv2): Conv2d(256, 256, kernel_size=(3, 3), stride=(1, 1), padding=(1, 1), bias=False)\n",
      "        (bn2): BatchNorm2d(256, eps=1e-05, momentum=0.1, affine=True, track_running_stats=True)\n",
      "      )\n",
      "    )\n",
      "    (layer4): Sequential(\n",
      "      (0): BasicBlock(\n",
      "        (conv1): Conv2d(256, 512, kernel_size=(3, 3), stride=(2, 2), padding=(1, 1), bias=False)\n",
      "        (bn1): BatchNorm2d(512, eps=1e-05, momentum=0.1, affine=True, track_running_stats=True)\n",
      "        (relu): ReLU(inplace=True)\n",
      "        (conv2): Conv2d(512, 512, kernel_size=(3, 3), stride=(1, 1), padding=(1, 1), bias=False)\n",
      "        (bn2): BatchNorm2d(512, eps=1e-05, momentum=0.1, affine=True, track_running_stats=True)\n",
      "        (downsample): Sequential(\n",
      "          (0): Conv2d(256, 512, kernel_size=(1, 1), stride=(2, 2), bias=False)\n",
      "          (1): BatchNorm2d(512, eps=1e-05, momentum=0.1, affine=True, track_running_stats=True)\n",
      "        )\n",
      "      )\n",
      "      (1): BasicBlock(\n",
      "        (conv1): Conv2d(512, 512, kernel_size=(3, 3), stride=(1, 1), padding=(1, 1), bias=False)\n",
      "        (bn1): BatchNorm2d(512, eps=1e-05, momentum=0.1, affine=True, track_running_stats=True)\n",
      "        (relu): ReLU(inplace=True)\n",
      "        (conv2): Conv2d(512, 512, kernel_size=(3, 3), stride=(1, 1), padding=(1, 1), bias=False)\n",
      "        (bn2): BatchNorm2d(512, eps=1e-05, momentum=0.1, affine=True, track_running_stats=True)\n",
      "      )\n",
      "      (2): BasicBlock(\n",
      "        (conv1): Conv2d(512, 512, kernel_size=(3, 3), stride=(1, 1), padding=(1, 1), bias=False)\n",
      "        (bn1): BatchNorm2d(512, eps=1e-05, momentum=0.1, affine=True, track_running_stats=True)\n",
      "        (relu): ReLU(inplace=True)\n",
      "        (conv2): Conv2d(512, 512, kernel_size=(3, 3), stride=(1, 1), padding=(1, 1), bias=False)\n",
      "        (bn2): BatchNorm2d(512, eps=1e-05, momentum=0.1, affine=True, track_running_stats=True)\n",
      "      )\n",
      "    )\n",
      "    (avgpool): AdaptiveAvgPool2d(output_size=(1, 1))\n",
      "    (fc): Linear(in_features=512, out_features=512, bias=True)\n",
      "  )\n",
      "  (text_encoder): Linear(in_features=3913, out_features=512, bias=True)\n",
      "  (word_embeddings): Embedding(3913, 512, padding_idx=0)\n",
      "  (lstm): LSTM(512, 512, batch_first=True)\n",
      "  (hidden2tag): Linear(in_features=512, out_features=512, bias=True)\n",
      "  (fc): Sequential(\n",
      "    (0): Linear(in_features=1024, out_features=512, bias=True)\n",
      "    (1): LeakyReLU(negative_slope=0.01, inplace=True)\n",
      "    (2): Linear(in_features=512, out_features=40245, bias=True)\n",
      "  )\n",
      ")\n"
     ]
    }
   ],
   "source": [
    "model = VQAModel(vocab_size=len(train_dataset.question2idx)+1, n_answer=len(train_dataset.answer2idx)).to(device)\n",
    "print(model)"
   ]
  },
  {
   "cell_type": "code",
   "execution_count": 74,
   "metadata": {},
   "outputs": [],
   "source": [
    "# optimizer / criterion\n",
    "num_epoch = 1\n",
    "warmup_length = 3\n",
    "lr = 0.001\n",
    "criterion = nn.CrossEntropyLoss()\n",
    "criterion_KL = nn.KLDivLoss(reduction=\"sum\")\n",
    "optimizer = torch.optim.Adam(model.parameters(), lr=lr, weight_decay=1e-5)\n",
    "\n",
    "scheduler = CosineScheduler(num_epoch, lr, warmup_length)"
   ]
  },
  {
   "cell_type": "code",
   "execution_count": 75,
   "metadata": {},
   "outputs": [
    {
     "name": "stderr",
     "output_type": "stream",
     "text": [
      "  0%|          | 0/156 [00:00<?, ?it/s]"
     ]
    },
    {
     "name": "stdout",
     "output_type": "stream",
     "text": [
      "question_feature: torch.Size([128, 512])\n",
      "image_feature: torch.Size([128, 512])\n"
     ]
    },
    {
     "name": "stderr",
     "output_type": "stream",
     "text": [
      "  1%|          | 1/156 [00:03<09:21,  3.62s/it]"
     ]
    },
    {
     "name": "stdout",
     "output_type": "stream",
     "text": [
      "question_feature: torch.Size([128, 512])\n",
      "image_feature: torch.Size([128, 512])\n"
     ]
    },
    {
     "name": "stderr",
     "output_type": "stream",
     "text": [
      "  1%|          | 1/156 [00:06<17:18,  6.70s/it]\n"
     ]
    },
    {
     "ename": "KeyboardInterrupt",
     "evalue": "",
     "output_type": "error",
     "traceback": [
      "\u001b[1;31m---------------------------------------------------------------------------\u001b[0m",
      "\u001b[1;31mKeyboardInterrupt\u001b[0m                         Traceback (most recent call last)",
      "Cell \u001b[1;32mIn[75], line 12\u001b[0m\n\u001b[0;32m      9\u001b[0m train_lr_hist\u001b[38;5;241m.\u001b[39mappend(new_lr)\n\u001b[0;32m     11\u001b[0m \u001b[38;5;66;03m# train_loss, train_acc, train_simple_acc, train_time = train(model, train_loader, optimizer, criterion, device)\u001b[39;00m\n\u001b[1;32m---> 12\u001b[0m train_loss, train_acc, train_simple_acc, train_time \u001b[38;5;241m=\u001b[39m \u001b[43mtrain_KL\u001b[49m\u001b[43m(\u001b[49m\u001b[43mmodel\u001b[49m\u001b[43m,\u001b[49m\u001b[43m \u001b[49m\u001b[43mtrain_loader\u001b[49m\u001b[43m,\u001b[49m\u001b[43m \u001b[49m\u001b[43moptimizer\u001b[49m\u001b[43m,\u001b[49m\u001b[43m \u001b[49m\u001b[43mcriterion_KL\u001b[49m\u001b[43m,\u001b[49m\u001b[43m \u001b[49m\u001b[43mdevice\u001b[49m\u001b[43m)\u001b[49m\n\u001b[0;32m     13\u001b[0m \u001b[38;5;28mprint\u001b[39m(\u001b[38;5;124mf\u001b[39m\u001b[38;5;124m\"\u001b[39m\u001b[38;5;124m【\u001b[39m\u001b[38;5;132;01m{\u001b[39;00mepoch\u001b[38;5;250m \u001b[39m\u001b[38;5;241m+\u001b[39m\u001b[38;5;250m \u001b[39m\u001b[38;5;241m1\u001b[39m\u001b[38;5;132;01m}\u001b[39;00m\u001b[38;5;124m/\u001b[39m\u001b[38;5;132;01m{\u001b[39;00mnum_epoch\u001b[38;5;132;01m}\u001b[39;00m\u001b[38;5;124m】\u001b[39m\u001b[38;5;130;01m\\n\u001b[39;00m\u001b[38;5;124m\"\u001b[39m\n\u001b[0;32m     14\u001b[0m         \u001b[38;5;124mf\u001b[39m\u001b[38;5;124m\"\u001b[39m\u001b[38;5;124mtrain time: \u001b[39m\u001b[38;5;132;01m{\u001b[39;00mtrain_time\u001b[38;5;132;01m:\u001b[39;00m\u001b[38;5;124m.2f\u001b[39m\u001b[38;5;132;01m}\u001b[39;00m\u001b[38;5;124m [s]\u001b[39m\u001b[38;5;130;01m\\n\u001b[39;00m\u001b[38;5;124m\"\u001b[39m\n\u001b[0;32m     15\u001b[0m         \u001b[38;5;124mf\u001b[39m\u001b[38;5;124m\"\u001b[39m\u001b[38;5;124mtrain loss: \u001b[39m\u001b[38;5;132;01m{\u001b[39;00mtrain_loss\u001b[38;5;132;01m:\u001b[39;00m\u001b[38;5;124m.4f\u001b[39m\u001b[38;5;132;01m}\u001b[39;00m\u001b[38;5;130;01m\\n\u001b[39;00m\u001b[38;5;124m\"\u001b[39m\n\u001b[0;32m     16\u001b[0m         \u001b[38;5;124mf\u001b[39m\u001b[38;5;124m\"\u001b[39m\u001b[38;5;124mtrain acc: \u001b[39m\u001b[38;5;132;01m{\u001b[39;00mtrain_acc\u001b[38;5;132;01m:\u001b[39;00m\u001b[38;5;124m.4f\u001b[39m\u001b[38;5;132;01m}\u001b[39;00m\u001b[38;5;130;01m\\n\u001b[39;00m\u001b[38;5;124m\"\u001b[39m\n\u001b[0;32m     17\u001b[0m         \u001b[38;5;124mf\u001b[39m\u001b[38;5;124m\"\u001b[39m\u001b[38;5;124mtrain simple acc: \u001b[39m\u001b[38;5;132;01m{\u001b[39;00mtrain_simple_acc\u001b[38;5;132;01m:\u001b[39;00m\u001b[38;5;124m.4f\u001b[39m\u001b[38;5;132;01m}\u001b[39;00m\u001b[38;5;124m\"\u001b[39m)\n\u001b[0;32m     18\u001b[0m train_loss_hist\u001b[38;5;241m.\u001b[39mappend(train_loss)\n",
      "Cell \u001b[1;32mIn[67], line 23\u001b[0m, in \u001b[0;36mtrain_KL\u001b[1;34m(model, dataloader, optimizer, criterion, device)\u001b[0m\n\u001b[0;32m     21\u001b[0m optimizer\u001b[38;5;241m.\u001b[39mzero_grad()\n\u001b[0;32m     22\u001b[0m loss\u001b[38;5;241m.\u001b[39mbackward()\n\u001b[1;32m---> 23\u001b[0m \u001b[43moptimizer\u001b[49m\u001b[38;5;241;43m.\u001b[39;49m\u001b[43mstep\u001b[49m\u001b[43m(\u001b[49m\u001b[43m)\u001b[49m\n\u001b[0;32m     25\u001b[0m total_loss \u001b[38;5;241m+\u001b[39m\u001b[38;5;241m=\u001b[39m loss\u001b[38;5;241m.\u001b[39mitem()\n\u001b[0;32m     26\u001b[0m total_acc \u001b[38;5;241m+\u001b[39m\u001b[38;5;241m=\u001b[39m VQA_criterion(pred\u001b[38;5;241m.\u001b[39margmax(\u001b[38;5;241m1\u001b[39m), answers)  \u001b[38;5;66;03m# VQA accuracy\u001b[39;00m\n",
      "File \u001b[1;32mc:\\Users\\ATSUHIRO\\anaconda3\\envs\\dl_competition\\lib\\site-packages\\torch\\optim\\optimizer.py:391\u001b[0m, in \u001b[0;36mOptimizer.profile_hook_step.<locals>.wrapper\u001b[1;34m(*args, **kwargs)\u001b[0m\n\u001b[0;32m    386\u001b[0m         \u001b[38;5;28;01melse\u001b[39;00m:\n\u001b[0;32m    387\u001b[0m             \u001b[38;5;28;01mraise\u001b[39;00m \u001b[38;5;167;01mRuntimeError\u001b[39;00m(\n\u001b[0;32m    388\u001b[0m                 \u001b[38;5;124mf\u001b[39m\u001b[38;5;124m\"\u001b[39m\u001b[38;5;132;01m{\u001b[39;00mfunc\u001b[38;5;132;01m}\u001b[39;00m\u001b[38;5;124m must return None or a tuple of (new_args, new_kwargs), but got \u001b[39m\u001b[38;5;132;01m{\u001b[39;00mresult\u001b[38;5;132;01m}\u001b[39;00m\u001b[38;5;124m.\u001b[39m\u001b[38;5;124m\"\u001b[39m\n\u001b[0;32m    389\u001b[0m             )\n\u001b[1;32m--> 391\u001b[0m out \u001b[38;5;241m=\u001b[39m func(\u001b[38;5;241m*\u001b[39margs, \u001b[38;5;241m*\u001b[39m\u001b[38;5;241m*\u001b[39mkwargs)\n\u001b[0;32m    392\u001b[0m \u001b[38;5;28mself\u001b[39m\u001b[38;5;241m.\u001b[39m_optimizer_step_code()\n\u001b[0;32m    394\u001b[0m \u001b[38;5;66;03m# call optimizer step post hooks\u001b[39;00m\n",
      "File \u001b[1;32mc:\\Users\\ATSUHIRO\\anaconda3\\envs\\dl_competition\\lib\\site-packages\\torch\\optim\\optimizer.py:76\u001b[0m, in \u001b[0;36m_use_grad_for_differentiable.<locals>._use_grad\u001b[1;34m(self, *args, **kwargs)\u001b[0m\n\u001b[0;32m     74\u001b[0m     torch\u001b[38;5;241m.\u001b[39mset_grad_enabled(\u001b[38;5;28mself\u001b[39m\u001b[38;5;241m.\u001b[39mdefaults[\u001b[38;5;124m'\u001b[39m\u001b[38;5;124mdifferentiable\u001b[39m\u001b[38;5;124m'\u001b[39m])\n\u001b[0;32m     75\u001b[0m     torch\u001b[38;5;241m.\u001b[39m_dynamo\u001b[38;5;241m.\u001b[39mgraph_break()\n\u001b[1;32m---> 76\u001b[0m     ret \u001b[38;5;241m=\u001b[39m func(\u001b[38;5;28mself\u001b[39m, \u001b[38;5;241m*\u001b[39margs, \u001b[38;5;241m*\u001b[39m\u001b[38;5;241m*\u001b[39mkwargs)\n\u001b[0;32m     77\u001b[0m \u001b[38;5;28;01mfinally\u001b[39;00m:\n\u001b[0;32m     78\u001b[0m     torch\u001b[38;5;241m.\u001b[39m_dynamo\u001b[38;5;241m.\u001b[39mgraph_break()\n",
      "File \u001b[1;32mc:\\Users\\ATSUHIRO\\anaconda3\\envs\\dl_competition\\lib\\site-packages\\torch\\optim\\adam.py:168\u001b[0m, in \u001b[0;36mAdam.step\u001b[1;34m(self, closure)\u001b[0m\n\u001b[0;32m    157\u001b[0m     beta1, beta2 \u001b[38;5;241m=\u001b[39m group[\u001b[38;5;124m'\u001b[39m\u001b[38;5;124mbetas\u001b[39m\u001b[38;5;124m'\u001b[39m]\n\u001b[0;32m    159\u001b[0m     has_complex \u001b[38;5;241m=\u001b[39m \u001b[38;5;28mself\u001b[39m\u001b[38;5;241m.\u001b[39m_init_group(\n\u001b[0;32m    160\u001b[0m         group,\n\u001b[0;32m    161\u001b[0m         params_with_grad,\n\u001b[1;32m   (...)\u001b[0m\n\u001b[0;32m    165\u001b[0m         max_exp_avg_sqs,\n\u001b[0;32m    166\u001b[0m         state_steps)\n\u001b[1;32m--> 168\u001b[0m     \u001b[43madam\u001b[49m\u001b[43m(\u001b[49m\n\u001b[0;32m    169\u001b[0m \u001b[43m        \u001b[49m\u001b[43mparams_with_grad\u001b[49m\u001b[43m,\u001b[49m\n\u001b[0;32m    170\u001b[0m \u001b[43m        \u001b[49m\u001b[43mgrads\u001b[49m\u001b[43m,\u001b[49m\n\u001b[0;32m    171\u001b[0m \u001b[43m        \u001b[49m\u001b[43mexp_avgs\u001b[49m\u001b[43m,\u001b[49m\n\u001b[0;32m    172\u001b[0m \u001b[43m        \u001b[49m\u001b[43mexp_avg_sqs\u001b[49m\u001b[43m,\u001b[49m\n\u001b[0;32m    173\u001b[0m \u001b[43m        \u001b[49m\u001b[43mmax_exp_avg_sqs\u001b[49m\u001b[43m,\u001b[49m\n\u001b[0;32m    174\u001b[0m \u001b[43m        \u001b[49m\u001b[43mstate_steps\u001b[49m\u001b[43m,\u001b[49m\n\u001b[0;32m    175\u001b[0m \u001b[43m        \u001b[49m\u001b[43mamsgrad\u001b[49m\u001b[38;5;241;43m=\u001b[39;49m\u001b[43mgroup\u001b[49m\u001b[43m[\u001b[49m\u001b[38;5;124;43m'\u001b[39;49m\u001b[38;5;124;43mamsgrad\u001b[39;49m\u001b[38;5;124;43m'\u001b[39;49m\u001b[43m]\u001b[49m\u001b[43m,\u001b[49m\n\u001b[0;32m    176\u001b[0m \u001b[43m        \u001b[49m\u001b[43mhas_complex\u001b[49m\u001b[38;5;241;43m=\u001b[39;49m\u001b[43mhas_complex\u001b[49m\u001b[43m,\u001b[49m\n\u001b[0;32m    177\u001b[0m \u001b[43m        \u001b[49m\u001b[43mbeta1\u001b[49m\u001b[38;5;241;43m=\u001b[39;49m\u001b[43mbeta1\u001b[49m\u001b[43m,\u001b[49m\n\u001b[0;32m    178\u001b[0m \u001b[43m        \u001b[49m\u001b[43mbeta2\u001b[49m\u001b[38;5;241;43m=\u001b[39;49m\u001b[43mbeta2\u001b[49m\u001b[43m,\u001b[49m\n\u001b[0;32m    179\u001b[0m \u001b[43m        \u001b[49m\u001b[43mlr\u001b[49m\u001b[38;5;241;43m=\u001b[39;49m\u001b[43mgroup\u001b[49m\u001b[43m[\u001b[49m\u001b[38;5;124;43m'\u001b[39;49m\u001b[38;5;124;43mlr\u001b[39;49m\u001b[38;5;124;43m'\u001b[39;49m\u001b[43m]\u001b[49m\u001b[43m,\u001b[49m\n\u001b[0;32m    180\u001b[0m \u001b[43m        \u001b[49m\u001b[43mweight_decay\u001b[49m\u001b[38;5;241;43m=\u001b[39;49m\u001b[43mgroup\u001b[49m\u001b[43m[\u001b[49m\u001b[38;5;124;43m'\u001b[39;49m\u001b[38;5;124;43mweight_decay\u001b[39;49m\u001b[38;5;124;43m'\u001b[39;49m\u001b[43m]\u001b[49m\u001b[43m,\u001b[49m\n\u001b[0;32m    181\u001b[0m \u001b[43m        \u001b[49m\u001b[43meps\u001b[49m\u001b[38;5;241;43m=\u001b[39;49m\u001b[43mgroup\u001b[49m\u001b[43m[\u001b[49m\u001b[38;5;124;43m'\u001b[39;49m\u001b[38;5;124;43meps\u001b[39;49m\u001b[38;5;124;43m'\u001b[39;49m\u001b[43m]\u001b[49m\u001b[43m,\u001b[49m\n\u001b[0;32m    182\u001b[0m \u001b[43m        \u001b[49m\u001b[43mmaximize\u001b[49m\u001b[38;5;241;43m=\u001b[39;49m\u001b[43mgroup\u001b[49m\u001b[43m[\u001b[49m\u001b[38;5;124;43m'\u001b[39;49m\u001b[38;5;124;43mmaximize\u001b[39;49m\u001b[38;5;124;43m'\u001b[39;49m\u001b[43m]\u001b[49m\u001b[43m,\u001b[49m\n\u001b[0;32m    183\u001b[0m \u001b[43m        \u001b[49m\u001b[43mforeach\u001b[49m\u001b[38;5;241;43m=\u001b[39;49m\u001b[43mgroup\u001b[49m\u001b[43m[\u001b[49m\u001b[38;5;124;43m'\u001b[39;49m\u001b[38;5;124;43mforeach\u001b[39;49m\u001b[38;5;124;43m'\u001b[39;49m\u001b[43m]\u001b[49m\u001b[43m,\u001b[49m\n\u001b[0;32m    184\u001b[0m \u001b[43m        \u001b[49m\u001b[43mcapturable\u001b[49m\u001b[38;5;241;43m=\u001b[39;49m\u001b[43mgroup\u001b[49m\u001b[43m[\u001b[49m\u001b[38;5;124;43m'\u001b[39;49m\u001b[38;5;124;43mcapturable\u001b[39;49m\u001b[38;5;124;43m'\u001b[39;49m\u001b[43m]\u001b[49m\u001b[43m,\u001b[49m\n\u001b[0;32m    185\u001b[0m \u001b[43m        \u001b[49m\u001b[43mdifferentiable\u001b[49m\u001b[38;5;241;43m=\u001b[39;49m\u001b[43mgroup\u001b[49m\u001b[43m[\u001b[49m\u001b[38;5;124;43m'\u001b[39;49m\u001b[38;5;124;43mdifferentiable\u001b[39;49m\u001b[38;5;124;43m'\u001b[39;49m\u001b[43m]\u001b[49m\u001b[43m,\u001b[49m\n\u001b[0;32m    186\u001b[0m \u001b[43m        \u001b[49m\u001b[43mfused\u001b[49m\u001b[38;5;241;43m=\u001b[39;49m\u001b[43mgroup\u001b[49m\u001b[43m[\u001b[49m\u001b[38;5;124;43m'\u001b[39;49m\u001b[38;5;124;43mfused\u001b[39;49m\u001b[38;5;124;43m'\u001b[39;49m\u001b[43m]\u001b[49m\u001b[43m,\u001b[49m\n\u001b[0;32m    187\u001b[0m \u001b[43m        \u001b[49m\u001b[43mgrad_scale\u001b[49m\u001b[38;5;241;43m=\u001b[39;49m\u001b[38;5;28;43mgetattr\u001b[39;49m\u001b[43m(\u001b[49m\u001b[38;5;28;43mself\u001b[39;49m\u001b[43m,\u001b[49m\u001b[43m \u001b[49m\u001b[38;5;124;43m\"\u001b[39;49m\u001b[38;5;124;43mgrad_scale\u001b[39;49m\u001b[38;5;124;43m\"\u001b[39;49m\u001b[43m,\u001b[49m\u001b[43m \u001b[49m\u001b[38;5;28;43;01mNone\u001b[39;49;00m\u001b[43m)\u001b[49m\u001b[43m,\u001b[49m\n\u001b[0;32m    188\u001b[0m \u001b[43m        \u001b[49m\u001b[43mfound_inf\u001b[49m\u001b[38;5;241;43m=\u001b[39;49m\u001b[38;5;28;43mgetattr\u001b[39;49m\u001b[43m(\u001b[49m\u001b[38;5;28;43mself\u001b[39;49m\u001b[43m,\u001b[49m\u001b[43m \u001b[49m\u001b[38;5;124;43m\"\u001b[39;49m\u001b[38;5;124;43mfound_inf\u001b[39;49m\u001b[38;5;124;43m\"\u001b[39;49m\u001b[43m,\u001b[49m\u001b[43m \u001b[49m\u001b[38;5;28;43;01mNone\u001b[39;49;00m\u001b[43m)\u001b[49m\u001b[43m,\u001b[49m\n\u001b[0;32m    189\u001b[0m \u001b[43m    \u001b[49m\u001b[43m)\u001b[49m\n\u001b[0;32m    191\u001b[0m \u001b[38;5;28;01mreturn\u001b[39;00m loss\n",
      "File \u001b[1;32mc:\\Users\\ATSUHIRO\\anaconda3\\envs\\dl_competition\\lib\\site-packages\\torch\\optim\\adam.py:318\u001b[0m, in \u001b[0;36madam\u001b[1;34m(params, grads, exp_avgs, exp_avg_sqs, max_exp_avg_sqs, state_steps, foreach, capturable, differentiable, fused, grad_scale, found_inf, has_complex, amsgrad, beta1, beta2, lr, weight_decay, eps, maximize)\u001b[0m\n\u001b[0;32m    315\u001b[0m \u001b[38;5;28;01melse\u001b[39;00m:\n\u001b[0;32m    316\u001b[0m     func \u001b[38;5;241m=\u001b[39m _single_tensor_adam\n\u001b[1;32m--> 318\u001b[0m \u001b[43mfunc\u001b[49m\u001b[43m(\u001b[49m\u001b[43mparams\u001b[49m\u001b[43m,\u001b[49m\n\u001b[0;32m    319\u001b[0m \u001b[43m     \u001b[49m\u001b[43mgrads\u001b[49m\u001b[43m,\u001b[49m\n\u001b[0;32m    320\u001b[0m \u001b[43m     \u001b[49m\u001b[43mexp_avgs\u001b[49m\u001b[43m,\u001b[49m\n\u001b[0;32m    321\u001b[0m \u001b[43m     \u001b[49m\u001b[43mexp_avg_sqs\u001b[49m\u001b[43m,\u001b[49m\n\u001b[0;32m    322\u001b[0m \u001b[43m     \u001b[49m\u001b[43mmax_exp_avg_sqs\u001b[49m\u001b[43m,\u001b[49m\n\u001b[0;32m    323\u001b[0m \u001b[43m     \u001b[49m\u001b[43mstate_steps\u001b[49m\u001b[43m,\u001b[49m\n\u001b[0;32m    324\u001b[0m \u001b[43m     \u001b[49m\u001b[43mamsgrad\u001b[49m\u001b[38;5;241;43m=\u001b[39;49m\u001b[43mamsgrad\u001b[49m\u001b[43m,\u001b[49m\n\u001b[0;32m    325\u001b[0m \u001b[43m     \u001b[49m\u001b[43mhas_complex\u001b[49m\u001b[38;5;241;43m=\u001b[39;49m\u001b[43mhas_complex\u001b[49m\u001b[43m,\u001b[49m\n\u001b[0;32m    326\u001b[0m \u001b[43m     \u001b[49m\u001b[43mbeta1\u001b[49m\u001b[38;5;241;43m=\u001b[39;49m\u001b[43mbeta1\u001b[49m\u001b[43m,\u001b[49m\n\u001b[0;32m    327\u001b[0m \u001b[43m     \u001b[49m\u001b[43mbeta2\u001b[49m\u001b[38;5;241;43m=\u001b[39;49m\u001b[43mbeta2\u001b[49m\u001b[43m,\u001b[49m\n\u001b[0;32m    328\u001b[0m \u001b[43m     \u001b[49m\u001b[43mlr\u001b[49m\u001b[38;5;241;43m=\u001b[39;49m\u001b[43mlr\u001b[49m\u001b[43m,\u001b[49m\n\u001b[0;32m    329\u001b[0m \u001b[43m     \u001b[49m\u001b[43mweight_decay\u001b[49m\u001b[38;5;241;43m=\u001b[39;49m\u001b[43mweight_decay\u001b[49m\u001b[43m,\u001b[49m\n\u001b[0;32m    330\u001b[0m \u001b[43m     \u001b[49m\u001b[43meps\u001b[49m\u001b[38;5;241;43m=\u001b[39;49m\u001b[43meps\u001b[49m\u001b[43m,\u001b[49m\n\u001b[0;32m    331\u001b[0m \u001b[43m     \u001b[49m\u001b[43mmaximize\u001b[49m\u001b[38;5;241;43m=\u001b[39;49m\u001b[43mmaximize\u001b[49m\u001b[43m,\u001b[49m\n\u001b[0;32m    332\u001b[0m \u001b[43m     \u001b[49m\u001b[43mcapturable\u001b[49m\u001b[38;5;241;43m=\u001b[39;49m\u001b[43mcapturable\u001b[49m\u001b[43m,\u001b[49m\n\u001b[0;32m    333\u001b[0m \u001b[43m     \u001b[49m\u001b[43mdifferentiable\u001b[49m\u001b[38;5;241;43m=\u001b[39;49m\u001b[43mdifferentiable\u001b[49m\u001b[43m,\u001b[49m\n\u001b[0;32m    334\u001b[0m \u001b[43m     \u001b[49m\u001b[43mgrad_scale\u001b[49m\u001b[38;5;241;43m=\u001b[39;49m\u001b[43mgrad_scale\u001b[49m\u001b[43m,\u001b[49m\n\u001b[0;32m    335\u001b[0m \u001b[43m     \u001b[49m\u001b[43mfound_inf\u001b[49m\u001b[38;5;241;43m=\u001b[39;49m\u001b[43mfound_inf\u001b[49m\u001b[43m)\u001b[49m\n",
      "File \u001b[1;32mc:\\Users\\ATSUHIRO\\anaconda3\\envs\\dl_competition\\lib\\site-packages\\torch\\optim\\adam.py:519\u001b[0m, in \u001b[0;36m_multi_tensor_adam\u001b[1;34m(params, grads, exp_avgs, exp_avg_sqs, max_exp_avg_sqs, state_steps, grad_scale, found_inf, amsgrad, has_complex, beta1, beta2, lr, weight_decay, eps, maximize, capturable, differentiable)\u001b[0m\n\u001b[0;32m    517\u001b[0m         torch\u001b[38;5;241m.\u001b[39m_foreach_add_(device_grads, device_params, alpha\u001b[38;5;241m=\u001b[39mweight_decay)\n\u001b[0;32m    518\u001b[0m     \u001b[38;5;28;01melse\u001b[39;00m:\n\u001b[1;32m--> 519\u001b[0m         device_grads \u001b[38;5;241m=\u001b[39m \u001b[43mtorch\u001b[49m\u001b[38;5;241;43m.\u001b[39;49m\u001b[43m_foreach_add\u001b[49m\u001b[43m(\u001b[49m\u001b[43mdevice_grads\u001b[49m\u001b[43m,\u001b[49m\u001b[43m \u001b[49m\u001b[43mdevice_params\u001b[49m\u001b[43m,\u001b[49m\u001b[43m \u001b[49m\u001b[43malpha\u001b[49m\u001b[38;5;241;43m=\u001b[39;49m\u001b[43mweight_decay\u001b[49m\u001b[43m)\u001b[49m\n\u001b[0;32m    521\u001b[0m \u001b[38;5;66;03m# Decay the first and second moment running average coefficient\u001b[39;00m\n\u001b[0;32m    522\u001b[0m torch\u001b[38;5;241m.\u001b[39m_foreach_lerp_(device_exp_avgs, device_grads, \u001b[38;5;241m1\u001b[39m \u001b[38;5;241m-\u001b[39m beta1)\n",
      "\u001b[1;31mKeyboardInterrupt\u001b[0m: "
     ]
    }
   ],
   "source": [
    "train_loss_hist = []\n",
    "train_acc_hist = []\n",
    "train_lr_hist = []\n",
    "\n",
    "# train model\n",
    "for epoch in range(num_epoch):\n",
    "    new_lr = scheduler(epoch)\n",
    "    set_lr(new_lr, optimizer)\n",
    "    train_lr_hist.append(new_lr)\n",
    "    \n",
    "    # train_loss, train_acc, train_simple_acc, train_time = train(model, train_loader, optimizer, criterion, device)\n",
    "    train_loss, train_acc, train_simple_acc, train_time = train_KL(model, train_loader, optimizer, criterion_KL, device)\n",
    "    print(f\"【{epoch + 1}/{num_epoch}】\\n\"\n",
    "            f\"train time: {train_time:.2f} [s]\\n\"\n",
    "            f\"train loss: {train_loss:.4f}\\n\"\n",
    "            f\"train acc: {train_acc:.4f}\\n\"\n",
    "            f\"train simple acc: {train_simple_acc:.4f}\")\n",
    "    train_loss_hist.append(train_loss)\n",
    "    train_acc_hist.append(train_acc)"
   ]
  },
  {
   "cell_type": "code",
   "execution_count": 77,
   "metadata": {},
   "outputs": [
    {
     "name": "stderr",
     "output_type": "stream",
     "text": [
      "  0%|          | 5/4969 [00:00<01:48, 45.65it/s]"
     ]
    },
    {
     "name": "stdout",
     "output_type": "stream",
     "text": [
      "question_feature: torch.Size([1, 512])\n",
      "image_feature: torch.Size([1, 512])\n",
      "question_feature: torch.Size([1, 512])\n",
      "image_feature: torch.Size([1, 512])\n",
      "question_feature: torch.Size([1, 512])\n",
      "image_feature: torch.Size([1, 512])\n",
      "question_feature: torch.Size([1, 512])\n",
      "image_feature: torch.Size([1, 512])\n",
      "question_feature: torch.Size([1, 512])\n",
      "image_feature: torch.Size([1, 512])\n",
      "question_feature: torch.Size([1, 512])\n",
      "image_feature: torch.Size([1, 512])\n",
      "question_feature: torch.Size([1, 512])\n",
      "image_feature: torch.Size([1, 512])\n",
      "question_feature: torch.Size([1, 512])\n",
      "image_feature: torch.Size([1, 512])\n"
     ]
    },
    {
     "name": "stderr",
     "output_type": "stream",
     "text": [
      "  0%|          | 15/4969 [00:00<02:03, 40.02it/s]"
     ]
    },
    {
     "name": "stdout",
     "output_type": "stream",
     "text": [
      "question_feature: torch.Size([1, 512])\n",
      "image_feature: torch.Size([1, 512])\n",
      "question_feature: torch.Size([1, 512])\n",
      "image_feature: torch.Size([1, 512])\n",
      "question_feature: torch.Size([1, 512])\n",
      "image_feature: torch.Size([1, 512])\n",
      "question_feature: torch.Size([1, 512])\n",
      "image_feature: torch.Size([1, 512])\n",
      "question_feature: torch.Size([1, 512])\n",
      "image_feature: torch.Size([1, 512])\n",
      "question_feature: torch.Size([1, 512])\n",
      "image_feature: torch.Size([1, 512])\n",
      "question_feature: torch.Size([1, 512])\n",
      "image_feature: torch.Size([1, 512])\n",
      "question_feature: torch.Size([1, 512])\n",
      "image_feature: torch.Size([1, 512])\n"
     ]
    },
    {
     "name": "stderr",
     "output_type": "stream",
     "text": [
      "  1%|          | 25/4969 [00:00<01:57, 42.07it/s]"
     ]
    },
    {
     "name": "stdout",
     "output_type": "stream",
     "text": [
      "question_feature: torch.Size([1, 512])\n",
      "image_feature: torch.Size([1, 512])\n",
      "question_feature: torch.Size([1, 512])\n",
      "image_feature: torch.Size([1, 512])\n",
      "question_feature: torch.Size([1, 512])\n",
      "image_feature: torch.Size([1, 512])\n",
      "question_feature: torch.Size([1, 512])\n",
      "image_feature: torch.Size([1, 512])\n",
      "question_feature: torch.Size([1, 512])\n",
      "image_feature: torch.Size([1, 512])\n",
      "question_feature: torch.Size([1, 512])\n",
      "image_feature: torch.Size([1, 512])\n",
      "question_feature: torch.Size([1, 512])\n",
      "image_feature: torch.Size([1, 512])\n",
      "question_feature: torch.Size([1, 512])\n",
      "image_feature: torch.Size([1, 512])\n",
      "question_feature: torch.Size([1, 512])\n",
      "image_feature: torch.Size([1, 512])\n",
      "question_feature: torch.Size([1, 512])\n",
      "image_feature: torch.Size([1, 512])\n"
     ]
    },
    {
     "name": "stderr",
     "output_type": "stream",
     "text": [
      "  1%|          | 30/4969 [00:00<02:15, 36.33it/s]"
     ]
    },
    {
     "name": "stdout",
     "output_type": "stream",
     "text": [
      "question_feature: torch.Size([1, 512])\n",
      "image_feature: torch.Size([1, 512])\n",
      "question_feature: torch.Size([1, 512])\n",
      "image_feature: torch.Size([1, 512])\n",
      "question_feature: torch.Size([1, 512])\n",
      "image_feature: torch.Size([1, 512])\n",
      "question_feature: torch.Size([1, 512])\n",
      "image_feature: torch.Size([1, 512])\n",
      "question_feature: torch.Size([1, 512])\n",
      "image_feature: torch.Size([1, 512])\n",
      "question_feature: torch.Size([1, 512])\n",
      "image_feature: torch.Size([1, 512])\n",
      "question_feature: torch.Size([1, 512])\n",
      "image_feature: torch.Size([1, 512])\n"
     ]
    },
    {
     "name": "stderr",
     "output_type": "stream",
     "text": [
      "  1%|          | 39/4969 [00:01<02:08, 38.28it/s]"
     ]
    },
    {
     "name": "stdout",
     "output_type": "stream",
     "text": [
      "question_feature: torch.Size([1, 512])\n",
      "image_feature: torch.Size([1, 512])\n",
      "question_feature: torch.Size([1, 512])\n",
      "image_feature: torch.Size([1, 512])\n",
      "question_feature: torch.Size([1, 512])\n",
      "image_feature: torch.Size([1, 512])\n",
      "question_feature: torch.Size([1, 512])\n",
      "image_feature: torch.Size([1, 512])\n",
      "question_feature: torch.Size([1, 512])\n",
      "image_feature: torch.Size([1, 512])\n",
      "question_feature: torch.Size([1, 512])\n",
      "image_feature: torch.Size([1, 512])\n",
      "question_feature: torch.Size([1, 512])\n",
      "image_feature: torch.Size([1, 512])\n",
      "question_feature: torch.Size([1, 512])\n",
      "image_feature: torch.Size([1, 512])\n",
      "question_feature: torch.Size([1, 512])\n",
      "image_feature: torch.Size([1, 512])\n"
     ]
    },
    {
     "name": "stderr",
     "output_type": "stream",
     "text": [
      "  1%|          | 49/4969 [00:01<02:11, 37.39it/s]"
     ]
    },
    {
     "name": "stdout",
     "output_type": "stream",
     "text": [
      "question_feature: torch.Size([1, 512])\n",
      "image_feature: torch.Size([1, 512])\n",
      "question_feature: torch.Size([1, 512])\n",
      "image_feature: torch.Size([1, 512])\n",
      "question_feature: torch.Size([1, 512])\n",
      "image_feature: torch.Size([1, 512])\n",
      "question_feature: torch.Size([1, 512])\n",
      "image_feature: torch.Size([1, 512])\n",
      "question_feature: torch.Size([1, 512])\n",
      "image_feature: torch.Size([1, 512])\n",
      "question_feature: torch.Size([1, 512])\n",
      "image_feature: torch.Size([1, 512])\n",
      "question_feature: torch.Size([1, 512])\n",
      "image_feature: torch.Size([1, 512])\n",
      "question_feature: torch.Size([1, 512])\n",
      "image_feature: torch.Size([1, 512])\n"
     ]
    },
    {
     "name": "stderr",
     "output_type": "stream",
     "text": [
      "  1%|          | 57/4969 [00:01<02:18, 35.46it/s]"
     ]
    },
    {
     "name": "stdout",
     "output_type": "stream",
     "text": [
      "question_feature: torch.Size([1, 512])\n",
      "image_feature: torch.Size([1, 512])\n",
      "question_feature: torch.Size([1, 512])\n",
      "image_feature: torch.Size([1, 512])\n",
      "question_feature: torch.Size([1, 512])\n",
      "image_feature: torch.Size([1, 512])\n",
      "question_feature: torch.Size([1, 512])\n",
      "image_feature: torch.Size([1, 512])\n",
      "question_feature: torch.Size([1, 512])\n",
      "image_feature: torch.Size([1, 512])\n",
      "question_feature: torch.Size([1, 512])\n",
      "image_feature: torch.Size([1, 512])\n",
      "question_feature: torch.Size([1, 512])\n",
      "image_feature: torch.Size([1, 512])\n"
     ]
    },
    {
     "name": "stderr",
     "output_type": "stream",
     "text": [
      "  1%|▏         | 65/4969 [00:01<02:18, 35.30it/s]"
     ]
    },
    {
     "name": "stdout",
     "output_type": "stream",
     "text": [
      "question_feature: torch.Size([1, 512])\n",
      "image_feature: torch.Size([1, 512])\n",
      "question_feature: torch.Size([1, 512])\n",
      "image_feature: torch.Size([1, 512])\n",
      "question_feature: torch.Size([1, 512])\n",
      "image_feature: torch.Size([1, 512])\n",
      "question_feature: torch.Size([1, 512])\n",
      "image_feature: torch.Size([1, 512])\n",
      "question_feature: torch.Size([1, 512])\n",
      "image_feature: torch.Size([1, 512])\n",
      "question_feature: torch.Size([1, 512])\n",
      "image_feature: torch.Size([1, 512])\n",
      "question_feature: torch.Size([1, 512])\n",
      "image_feature: torch.Size([1, 512])\n",
      "question_feature: torch.Size([1, 512])\n",
      "image_feature: torch.Size([1, 512])\n"
     ]
    },
    {
     "name": "stderr",
     "output_type": "stream",
     "text": [
      "  1%|▏         | 71/4969 [00:01<02:06, 38.86it/s]"
     ]
    },
    {
     "name": "stdout",
     "output_type": "stream",
     "text": [
      "question_feature: torch.Size([1, 512])\n",
      "image_feature: torch.Size([1, 512])\n",
      "question_feature: torch.Size([1, 512])\n",
      "image_feature: torch.Size([1, 512])\n",
      "question_feature: torch.Size([1, 512])\n",
      "image_feature: torch.Size([1, 512])\n",
      "question_feature: torch.Size([1, 512])\n",
      "image_feature: torch.Size([1, 512])\n",
      "question_feature: torch.Size([1, 512])\n",
      "image_feature: torch.Size([1, 512])\n",
      "question_feature: torch.Size([1, 512])\n",
      "image_feature: torch.Size([1, 512])\n",
      "question_feature: torch.Size([1, 512])\n",
      "image_feature: torch.Size([1, 512])\n",
      "question_feature: torch.Size([1, 512])\n",
      "image_feature: torch.Size([1, 512])\n",
      "question_feature: torch.Size([1, 512])\n",
      "image_feature: torch.Size([1, 512])\n",
      "question_feature: torch.Size([1, 512])\n",
      "image_feature: torch.Size([1, 512])\n"
     ]
    },
    {
     "name": "stderr",
     "output_type": "stream",
     "text": [
      "  2%|▏         | 80/4969 [00:02<02:32, 32.02it/s]"
     ]
    },
    {
     "name": "stdout",
     "output_type": "stream",
     "text": [
      "question_feature: torch.Size([1, 512])\n",
      "image_feature: torch.Size([1, 512])\n",
      "question_feature: torch.Size([1, 512])\n",
      "image_feature: torch.Size([1, 512])\n",
      "question_feature: torch.Size([1, 512])\n",
      "image_feature: torch.Size([1, 512])\n",
      "question_feature: torch.Size([1, 512])\n",
      "image_feature: torch.Size([1, 512])\n",
      "question_feature: torch.Size([1, 512])\n",
      "image_feature: torch.Size([1, 512])\n"
     ]
    },
    {
     "name": "stderr",
     "output_type": "stream",
     "text": [
      "  2%|▏         | 89/4969 [00:02<02:12, 36.72it/s]"
     ]
    },
    {
     "name": "stdout",
     "output_type": "stream",
     "text": [
      "question_feature: torch.Size([1, 512])\n",
      "image_feature: torch.Size([1, 512])\n",
      "question_feature: torch.Size([1, 512])\n",
      "image_feature: torch.Size([1, 512])\n",
      "question_feature: torch.Size([1, 512])\n",
      "image_feature: torch.Size([1, 512])\n",
      "question_feature: torch.Size([1, 512])\n",
      "image_feature: torch.Size([1, 512])\n",
      "question_feature: torch.Size([1, 512])\n",
      "image_feature: torch.Size([1, 512])\n",
      "question_feature: torch.Size([1, 512])\n",
      "image_feature: torch.Size([1, 512])\n",
      "question_feature: torch.Size([1, 512])\n",
      "image_feature: torch.Size([1, 512])\n",
      "question_feature: torch.Size([1, 512])\n",
      "image_feature: torch.Size([1, 512])\n",
      "question_feature: torch.Size([1, 512])\n",
      "image_feature: torch.Size([1, 512])\n"
     ]
    },
    {
     "name": "stderr",
     "output_type": "stream",
     "text": [
      "  2%|▏         | 94/4969 [00:02<02:04, 39.16it/s]"
     ]
    },
    {
     "name": "stdout",
     "output_type": "stream",
     "text": [
      "question_feature: torch.Size([1, 512])\n",
      "image_feature: torch.Size([1, 512])\n",
      "question_feature: torch.Size([1, 512])\n",
      "image_feature: torch.Size([1, 512])\n",
      "question_feature: torch.Size([1, 512])\n",
      "image_feature: torch.Size([1, 512])\n",
      "question_feature: torch.Size([1, 512])\n",
      "image_feature: torch.Size([1, 512])\n",
      "question_feature: torch.Size([1, 512])\n",
      "image_feature: torch.Size([1, 512])\n",
      "question_feature: torch.Size([1, 512])\n",
      "image_feature: torch.Size([1, 512])\n",
      "question_feature: torch.Size([1, 512])\n",
      "image_feature: torch.Size([1, 512])\n",
      "question_feature: torch.Size([1, 512])\n",
      "image_feature: torch.Size([1, 512])\n",
      "question_feature: torch.Size([1, 512])\n",
      "image_feature: torch.Size([1, 512])\n"
     ]
    },
    {
     "name": "stderr",
     "output_type": "stream",
     "text": [
      "  2%|▏         | 104/4969 [00:02<02:01, 40.01it/s]"
     ]
    },
    {
     "name": "stdout",
     "output_type": "stream",
     "text": [
      "question_feature: torch.Size([1, 512])\n",
      "image_feature: torch.Size([1, 512])\n",
      "question_feature: torch.Size([1, 512])\n",
      "image_feature: torch.Size([1, 512])\n",
      "question_feature: torch.Size([1, 512])\n",
      "image_feature: torch.Size([1, 512])\n",
      "question_feature: torch.Size([1, 512])\n",
      "image_feature: torch.Size([1, 512])\n",
      "question_feature: torch.Size([1, 512])\n",
      "image_feature: torch.Size([1, 512])\n",
      "question_feature: torch.Size([1, 512])\n",
      "image_feature: torch.Size([1, 512])\n",
      "question_feature: torch.Size([1, 512])\n",
      "image_feature: torch.Size([1, 512])\n",
      "question_feature: torch.Size([1, 512])\n",
      "image_feature: torch.Size([1, 512])\n",
      "question_feature: torch.Size([1, 512])\n",
      "image_feature: torch.Size([1, 512])\n",
      "question_feature: torch.Size([1, 512])\n",
      "image_feature: torch.Size([1, 512])\n"
     ]
    },
    {
     "name": "stderr",
     "output_type": "stream",
     "text": [
      "  2%|▏         | 114/4969 [00:02<01:52, 43.21it/s]"
     ]
    },
    {
     "name": "stdout",
     "output_type": "stream",
     "text": [
      "question_feature: torch.Size([1, 512])\n",
      "image_feature: torch.Size([1, 512])\n",
      "question_feature: torch.Size([1, 512])\n",
      "image_feature: torch.Size([1, 512])\n",
      "question_feature: torch.Size([1, 512])\n",
      "image_feature: torch.Size([1, 512])\n",
      "question_feature: torch.Size([1, 512])\n",
      "image_feature: torch.Size([1, 512])\n",
      "question_feature: torch.Size([1, 512])\n",
      "image_feature: torch.Size([1, 512])\n",
      "question_feature: torch.Size([1, 512])\n",
      "image_feature: torch.Size([1, 512])\n",
      "question_feature: torch.Size([1, 512])\n",
      "image_feature: torch.Size([1, 512])\n",
      "question_feature: torch.Size([1, 512])\n",
      "image_feature: torch.Size([1, 512])\n",
      "question_feature: torch.Size([1, 512])\n",
      "image_feature: torch.Size([1, 512])\n",
      "question_feature: torch.Size([1, 512])\n",
      "image_feature: torch.Size([1, 512])\n"
     ]
    },
    {
     "name": "stderr",
     "output_type": "stream",
     "text": [
      "  2%|▏         | 124/4969 [00:03<01:49, 44.05it/s]"
     ]
    },
    {
     "name": "stdout",
     "output_type": "stream",
     "text": [
      "question_feature: torch.Size([1, 512])\n",
      "image_feature: torch.Size([1, 512])\n",
      "question_feature: torch.Size([1, 512])\n",
      "image_feature: torch.Size([1, 512])\n",
      "question_feature: torch.Size([1, 512])\n",
      "image_feature: torch.Size([1, 512])\n",
      "question_feature: torch.Size([1, 512])\n",
      "image_feature: torch.Size([1, 512])\n",
      "question_feature: torch.Size([1, 512])\n",
      "image_feature: torch.Size([1, 512])\n",
      "question_feature: torch.Size([1, 512])\n",
      "image_feature: torch.Size([1, 512])\n",
      "question_feature: torch.Size([1, 512])\n",
      "image_feature: torch.Size([1, 512])\n",
      "question_feature: torch.Size([1, 512])\n",
      "image_feature: torch.Size([1, 512])\n",
      "question_feature: torch.Size([1, 512])\n",
      "image_feature: torch.Size([1, 512])\n",
      "question_feature: torch.Size([1, 512])\n",
      "image_feature: torch.Size([1, 512])\n"
     ]
    },
    {
     "name": "stderr",
     "output_type": "stream",
     "text": [
      "  3%|▎         | 134/4969 [00:03<01:49, 44.33it/s]"
     ]
    },
    {
     "name": "stdout",
     "output_type": "stream",
     "text": [
      "question_feature: torch.Size([1, 512])\n",
      "image_feature: torch.Size([1, 512])\n",
      "question_feature: torch.Size([1, 512])\n",
      "image_feature: torch.Size([1, 512])\n",
      "question_feature: torch.Size([1, 512])\n",
      "image_feature: torch.Size([1, 512])\n",
      "question_feature: torch.Size([1, 512])\n",
      "image_feature: torch.Size([1, 512])\n",
      "question_feature: torch.Size([1, 512])\n",
      "image_feature: torch.Size([1, 512])\n",
      "question_feature: torch.Size([1, 512])\n",
      "image_feature: torch.Size([1, 512])\n",
      "question_feature: torch.Size([1, 512])\n",
      "image_feature: torch.Size([1, 512])\n",
      "question_feature: torch.Size([1, 512])\n",
      "image_feature: torch.Size([1, 512])\n",
      "question_feature: torch.Size([1, 512])\n",
      "image_feature: torch.Size([1, 512])\n"
     ]
    },
    {
     "name": "stderr",
     "output_type": "stream",
     "text": [
      "  3%|▎         | 144/4969 [00:03<01:57, 41.16it/s]"
     ]
    },
    {
     "name": "stdout",
     "output_type": "stream",
     "text": [
      "question_feature: torch.Size([1, 512])\n",
      "image_feature: torch.Size([1, 512])\n",
      "question_feature: torch.Size([1, 512])\n",
      "image_feature: torch.Size([1, 512])\n",
      "question_feature: torch.Size([1, 512])\n",
      "image_feature: torch.Size([1, 512])\n",
      "question_feature: torch.Size([1, 512])\n",
      "image_feature: torch.Size([1, 512])\n",
      "question_feature: torch.Size([1, 512])\n",
      "image_feature: torch.Size([1, 512])\n",
      "question_feature: torch.Size([1, 512])\n",
      "image_feature: torch.Size([1, 512])\n",
      "question_feature: torch.Size([1, 512])\n",
      "image_feature: torch.Size([1, 512])\n",
      "question_feature: torch.Size([1, 512])\n",
      "image_feature: torch.Size([1, 512])\n",
      "question_feature: torch.Size([1, 512])\n",
      "image_feature: torch.Size([1, 512])\n"
     ]
    },
    {
     "name": "stderr",
     "output_type": "stream",
     "text": [
      "  3%|▎         | 154/4969 [00:03<01:58, 40.62it/s]"
     ]
    },
    {
     "name": "stdout",
     "output_type": "stream",
     "text": [
      "question_feature: torch.Size([1, 512])\n",
      "image_feature: torch.Size([1, 512])\n",
      "question_feature: torch.Size([1, 512])\n",
      "image_feature: torch.Size([1, 512])\n",
      "question_feature: torch.Size([1, 512])\n",
      "image_feature: torch.Size([1, 512])\n",
      "question_feature: torch.Size([1, 512])\n",
      "image_feature: torch.Size([1, 512])\n",
      "question_feature: torch.Size([1, 512])\n",
      "image_feature: torch.Size([1, 512])\n",
      "question_feature: torch.Size([1, 512])\n",
      "image_feature: torch.Size([1, 512])\n",
      "question_feature: torch.Size([1, 512])\n",
      "image_feature: torch.Size([1, 512])\n",
      "question_feature: torch.Size([1, 512])\n",
      "image_feature: torch.Size([1, 512])\n",
      "question_feature: torch.Size([1, 512])\n",
      "image_feature: torch.Size([1, 512])\n"
     ]
    },
    {
     "name": "stderr",
     "output_type": "stream",
     "text": [
      "  3%|▎         | 159/4969 [00:04<02:06, 38.03it/s]"
     ]
    },
    {
     "name": "stdout",
     "output_type": "stream",
     "text": [
      "question_feature: torch.Size([1, 512])\n",
      "image_feature: torch.Size([1, 512])\n",
      "question_feature: torch.Size([1, 512])\n",
      "image_feature: torch.Size([1, 512])\n",
      "question_feature: torch.Size([1, 512])\n",
      "image_feature: torch.Size([1, 512])\n",
      "question_feature: torch.Size([1, 512])\n",
      "image_feature: torch.Size([1, 512])\n",
      "question_feature: torch.Size([1, 512])\n",
      "image_feature: torch.Size([1, 512])\n",
      "question_feature: torch.Size([1, 512])\n",
      "image_feature: torch.Size([1, 512])\n"
     ]
    },
    {
     "name": "stderr",
     "output_type": "stream",
     "text": [
      "  3%|▎         | 167/4969 [00:04<02:13, 35.93it/s]"
     ]
    },
    {
     "name": "stdout",
     "output_type": "stream",
     "text": [
      "question_feature: torch.Size([1, 512])\n",
      "image_feature: torch.Size([1, 512])\n",
      "question_feature: torch.Size([1, 512])\n",
      "image_feature: torch.Size([1, 512])\n",
      "question_feature: torch.Size([1, 512])\n",
      "image_feature: torch.Size([1, 512])\n",
      "question_feature: torch.Size([1, 512])\n",
      "image_feature: torch.Size([1, 512])\n",
      "question_feature: torch.Size([1, 512])\n",
      "image_feature: torch.Size([1, 512])\n",
      "question_feature: torch.Size([1, 512])\n",
      "image_feature: torch.Size([1, 512])\n",
      "question_feature: torch.Size([1, 512])\n",
      "image_feature: torch.Size([1, 512])\n",
      "question_feature: torch.Size([1, 512])\n",
      "image_feature: torch.Size([1, 512])\n"
     ]
    },
    {
     "name": "stderr",
     "output_type": "stream",
     "text": [
      "  4%|▎         | 176/4969 [00:04<02:08, 37.43it/s]"
     ]
    },
    {
     "name": "stdout",
     "output_type": "stream",
     "text": [
      "question_feature: torch.Size([1, 512])\n",
      "image_feature: torch.Size([1, 512])\n",
      "question_feature: torch.Size([1, 512])\n",
      "image_feature: torch.Size([1, 512])\n",
      "question_feature: torch.Size([1, 512])\n",
      "image_feature: torch.Size([1, 512])\n",
      "question_feature: torch.Size([1, 512])\n",
      "image_feature: torch.Size([1, 512])\n",
      "question_feature: torch.Size([1, 512])\n",
      "image_feature: torch.Size([1, 512])\n",
      "question_feature: torch.Size([1, 512])\n",
      "image_feature: torch.Size([1, 512])\n",
      "question_feature: torch.Size([1, 512])\n",
      "image_feature: torch.Size([1, 512])\n",
      "question_feature: torch.Size([1, 512])\n",
      "image_feature: torch.Size([1, 512])\n",
      "question_feature: torch.Size([1, 512])\n",
      "image_feature: torch.Size([1, 512])\n"
     ]
    },
    {
     "name": "stderr",
     "output_type": "stream",
     "text": [
      "  4%|▎         | 184/4969 [00:04<02:14, 35.54it/s]"
     ]
    },
    {
     "name": "stdout",
     "output_type": "stream",
     "text": [
      "question_feature: torch.Size([1, 512])\n",
      "image_feature: torch.Size([1, 512])\n",
      "question_feature: torch.Size([1, 512])\n",
      "image_feature: torch.Size([1, 512])\n",
      "question_feature: torch.Size([1, 512])\n",
      "image_feature: torch.Size([1, 512])\n",
      "question_feature: torch.Size([1, 512])\n",
      "image_feature: torch.Size([1, 512])\n",
      "question_feature: torch.Size([1, 512])\n",
      "image_feature: torch.Size([1, 512])\n",
      "question_feature: torch.Size([1, 512])\n",
      "image_feature: torch.Size([1, 512])\n",
      "question_feature: torch.Size([1, 512])\n",
      "image_feature: torch.Size([1, 512])\n",
      "question_feature: torch.Size([1, 512])\n",
      "image_feature: torch.Size([1, 512])\n"
     ]
    },
    {
     "name": "stderr",
     "output_type": "stream",
     "text": [
      "  4%|▍         | 193/4969 [00:05<02:07, 37.33it/s]"
     ]
    },
    {
     "name": "stdout",
     "output_type": "stream",
     "text": [
      "question_feature: torch.Size([1, 512])\n",
      "image_feature: torch.Size([1, 512])\n",
      "question_feature: torch.Size([1, 512])\n",
      "image_feature: torch.Size([1, 512])\n",
      "question_feature: torch.Size([1, 512])\n",
      "image_feature: torch.Size([1, 512])\n",
      "question_feature: torch.Size([1, 512])\n",
      "image_feature: torch.Size([1, 512])\n",
      "question_feature: torch.Size([1, 512])\n",
      "image_feature: torch.Size([1, 512])\n",
      "question_feature: torch.Size([1, 512])\n",
      "image_feature: torch.Size([1, 512])\n",
      "question_feature: torch.Size([1, 512])\n",
      "image_feature: torch.Size([1, 512])\n",
      "question_feature: torch.Size([1, 512])\n",
      "image_feature: torch.Size([1, 512])\n",
      "question_feature: torch.Size([1, 512])\n",
      "image_feature: torch.Size([1, 512])\n"
     ]
    },
    {
     "name": "stderr",
     "output_type": "stream",
     "text": [
      "  4%|▍         | 201/4969 [00:05<02:08, 37.02it/s]"
     ]
    },
    {
     "name": "stdout",
     "output_type": "stream",
     "text": [
      "question_feature: torch.Size([1, 512])\n",
      "image_feature: torch.Size([1, 512])\n",
      "question_feature: torch.Size([1, 512])\n",
      "image_feature: torch.Size([1, 512])\n",
      "question_feature: torch.Size([1, 512])\n",
      "image_feature: torch.Size([1, 512])\n",
      "question_feature: torch.Size([1, 512])\n",
      "image_feature: torch.Size([1, 512])\n",
      "question_feature: torch.Size([1, 512])\n",
      "image_feature: torch.Size([1, 512])\n",
      "question_feature: torch.Size([1, 512])\n",
      "image_feature: torch.Size([1, 512])\n",
      "question_feature: torch.Size([1, 512])\n",
      "image_feature: torch.Size([1, 512])\n",
      "question_feature: torch.Size([1, 512])\n",
      "image_feature: torch.Size([1, 512])\n",
      "question_feature: torch.Size([1, 512])\n",
      "image_feature: torch.Size([1, 512])\n"
     ]
    },
    {
     "name": "stderr",
     "output_type": "stream",
     "text": [
      "  4%|▍         | 210/4969 [00:05<02:14, 35.39it/s]"
     ]
    },
    {
     "name": "stdout",
     "output_type": "stream",
     "text": [
      "question_feature: torch.Size([1, 512])\n",
      "image_feature: torch.Size([1, 512])\n",
      "question_feature: torch.Size([1, 512])\n",
      "image_feature: torch.Size([1, 512])\n",
      "question_feature: torch.Size([1, 512])\n",
      "image_feature: torch.Size([1, 512])\n",
      "question_feature: torch.Size([1, 512])\n",
      "image_feature: torch.Size([1, 512])\n",
      "question_feature: torch.Size([1, 512])\n",
      "image_feature: torch.Size([1, 512])\n",
      "question_feature: torch.Size([1, 512])\n",
      "image_feature: torch.Size([1, 512])\n",
      "question_feature: torch.Size([1, 512])\n",
      "image_feature: torch.Size([1, 512])\n",
      "question_feature: torch.Size([1, 512])\n",
      "image_feature: torch.Size([1, 512])\n"
     ]
    },
    {
     "name": "stderr",
     "output_type": "stream",
     "text": [
      "  4%|▍         | 217/4969 [00:05<01:51, 42.48it/s]"
     ]
    },
    {
     "name": "stdout",
     "output_type": "stream",
     "text": [
      "question_feature: torch.Size([1, 512])\n",
      "image_feature: torch.Size([1, 512])\n",
      "question_feature: torch.Size([1, 512])\n",
      "image_feature: torch.Size([1, 512])\n",
      "question_feature: torch.Size([1, 512])\n",
      "image_feature: torch.Size([1, 512])\n",
      "question_feature: torch.Size([1, 512])\n",
      "image_feature: torch.Size([1, 512])\n",
      "question_feature: torch.Size([1, 512])\n",
      "image_feature: torch.Size([1, 512])\n",
      "question_feature: torch.Size([1, 512])\n",
      "image_feature: torch.Size([1, 512])\n",
      "question_feature: torch.Size([1, 512])\n",
      "image_feature: torch.Size([1, 512])\n",
      "question_feature: torch.Size([1, 512])\n",
      "image_feature: torch.Size([1, 512])\n"
     ]
    },
    {
     "name": "stderr",
     "output_type": "stream",
     "text": [
      "  5%|▍         | 227/4969 [00:05<02:07, 37.05it/s]"
     ]
    },
    {
     "name": "stdout",
     "output_type": "stream",
     "text": [
      "question_feature: torch.Size([1, 512])\n",
      "image_feature: torch.Size([1, 512])\n",
      "question_feature: torch.Size([1, 512])\n",
      "image_feature: torch.Size([1, 512])\n",
      "question_feature: torch.Size([1, 512])\n",
      "image_feature: torch.Size([1, 512])\n",
      "question_feature: torch.Size([1, 512])\n",
      "image_feature: torch.Size([1, 512])\n",
      "question_feature: torch.Size([1, 512])\n",
      "image_feature: torch.Size([1, 512])\n",
      "question_feature: torch.Size([1, 512])\n",
      "image_feature: torch.Size([1, 512])\n",
      "question_feature: torch.Size([1, 512])\n",
      "image_feature: torch.Size([1, 512])\n",
      "question_feature: torch.Size([1, 512])\n",
      "image_feature: torch.Size([1, 512])\n",
      "question_feature: torch.Size([1, 512])\n",
      "image_feature: torch.Size([1, 512])\n"
     ]
    },
    {
     "name": "stderr",
     "output_type": "stream",
     "text": [
      "  5%|▍         | 235/4969 [00:06<02:06, 37.56it/s]"
     ]
    },
    {
     "name": "stdout",
     "output_type": "stream",
     "text": [
      "question_feature: torch.Size([1, 512])\n",
      "image_feature: torch.Size([1, 512])\n",
      "question_feature: torch.Size([1, 512])\n",
      "image_feature: torch.Size([1, 512])\n",
      "question_feature: torch.Size([1, 512])\n",
      "image_feature: torch.Size([1, 512])\n",
      "question_feature: torch.Size([1, 512])\n",
      "image_feature: torch.Size([1, 512])\n",
      "question_feature: torch.Size([1, 512])\n",
      "image_feature: torch.Size([1, 512])\n",
      "question_feature: torch.Size([1, 512])\n",
      "image_feature: torch.Size([1, 512])\n",
      "question_feature: torch.Size([1, 512])\n",
      "image_feature: torch.Size([1, 512])\n",
      "question_feature: torch.Size([1, 512])\n",
      "image_feature: torch.Size([1, 512])\n"
     ]
    },
    {
     "name": "stderr",
     "output_type": "stream",
     "text": [
      "  5%|▍         | 245/4969 [00:06<02:04, 38.08it/s]"
     ]
    },
    {
     "name": "stdout",
     "output_type": "stream",
     "text": [
      "question_feature: torch.Size([1, 512])\n",
      "image_feature: torch.Size([1, 512])\n",
      "question_feature: torch.Size([1, 512])\n",
      "image_feature: torch.Size([1, 512])\n",
      "question_feature: torch.Size([1, 512])\n",
      "image_feature: torch.Size([1, 512])\n",
      "question_feature: torch.Size([1, 512])\n",
      "image_feature: torch.Size([1, 512])\n",
      "question_feature: torch.Size([1, 512])\n",
      "image_feature: torch.Size([1, 512])\n",
      "question_feature: torch.Size([1, 512])\n",
      "image_feature: torch.Size([1, 512])\n",
      "question_feature: torch.Size([1, 512])\n",
      "image_feature: torch.Size([1, 512])\n",
      "question_feature: torch.Size([1, 512])\n",
      "image_feature: torch.Size([1, 512])\n",
      "question_feature: torch.Size([1, 512])\n",
      "image_feature: torch.Size([1, 512])\n"
     ]
    },
    {
     "name": "stderr",
     "output_type": "stream",
     "text": [
      "  5%|▌         | 249/4969 [00:06<02:15, 34.95it/s]"
     ]
    },
    {
     "name": "stdout",
     "output_type": "stream",
     "text": [
      "question_feature: torch.Size([1, 512])\n",
      "image_feature: torch.Size([1, 512])\n",
      "question_feature: torch.Size([1, 512])\n",
      "image_feature: torch.Size([1, 512])\n",
      "question_feature: torch.Size([1, 512])\n",
      "image_feature: torch.Size([1, 512])\n",
      "question_feature: torch.Size([1, 512])\n",
      "image_feature: torch.Size([1, 512])\n",
      "question_feature: torch.Size([1, 512])\n",
      "image_feature: torch.Size([1, 512])\n"
     ]
    },
    {
     "name": "stderr",
     "output_type": "stream",
     "text": [
      "  5%|▌         | 257/4969 [00:06<02:26, 32.10it/s]"
     ]
    },
    {
     "name": "stdout",
     "output_type": "stream",
     "text": [
      "question_feature: torch.Size([1, 512])\n",
      "image_feature: torch.Size([1, 512])\n",
      "question_feature: torch.Size([1, 512])\n",
      "image_feature: torch.Size([1, 512])\n",
      "question_feature: torch.Size([1, 512])\n",
      "image_feature: torch.Size([1, 512])\n",
      "question_feature: torch.Size([1, 512])\n",
      "image_feature: torch.Size([1, 512])\n",
      "question_feature: torch.Size([1, 512])\n",
      "image_feature: torch.Size([1, 512])\n",
      "question_feature: torch.Size([1, 512])\n",
      "image_feature: torch.Size([1, 512])\n",
      "question_feature: torch.Size([1, 512])\n",
      "image_feature: torch.Size([1, 512])\n",
      "question_feature: torch.Size([1, 512])\n",
      "image_feature: torch.Size([1, 512])\n"
     ]
    },
    {
     "name": "stderr",
     "output_type": "stream",
     "text": [
      "  5%|▌         | 266/4969 [00:07<02:24, 32.60it/s]"
     ]
    },
    {
     "name": "stdout",
     "output_type": "stream",
     "text": [
      "question_feature: torch.Size([1, 512])\n",
      "image_feature: torch.Size([1, 512])\n",
      "question_feature: torch.Size([1, 512])\n",
      "image_feature: torch.Size([1, 512])\n",
      "question_feature: torch.Size([1, 512])\n",
      "image_feature: torch.Size([1, 512])\n",
      "question_feature: torch.Size([1, 512])\n",
      "image_feature: torch.Size([1, 512])\n",
      "question_feature: torch.Size([1, 512])\n",
      "image_feature: torch.Size([1, 512])\n",
      "question_feature: torch.Size([1, 512])\n",
      "image_feature: torch.Size([1, 512])\n",
      "question_feature: torch.Size([1, 512])\n",
      "image_feature: torch.Size([1, 512])\n"
     ]
    },
    {
     "name": "stderr",
     "output_type": "stream",
     "text": [
      "  5%|▌         | 270/4969 [00:07<02:29, 31.43it/s]"
     ]
    },
    {
     "name": "stdout",
     "output_type": "stream",
     "text": [
      "question_feature: torch.Size([1, 512])\n",
      "image_feature: torch.Size([1, 512])\n",
      "question_feature: torch.Size([1, 512])\n",
      "image_feature: torch.Size([1, 512])\n",
      "question_feature: torch.Size([1, 512])\n",
      "image_feature: torch.Size([1, 512])\n",
      "question_feature: torch.Size([1, 512])\n",
      "image_feature: torch.Size([1, 512])\n",
      "question_feature: torch.Size([1, 512])\n",
      "image_feature: torch.Size([1, 512])\n",
      "question_feature: torch.Size([1, 512])\n",
      "image_feature: torch.Size([1, 512])\n"
     ]
    },
    {
     "name": "stderr",
     "output_type": "stream",
     "text": [
      "  6%|▌         | 278/4969 [00:07<02:43, 28.64it/s]"
     ]
    },
    {
     "name": "stdout",
     "output_type": "stream",
     "text": [
      "question_feature: torch.Size([1, 512])\n",
      "image_feature: torch.Size([1, 512])\n",
      "question_feature: torch.Size([1, 512])\n",
      "image_feature: torch.Size([1, 512])\n",
      "question_feature: torch.Size([1, 512])\n",
      "image_feature: torch.Size([1, 512])\n",
      "question_feature: torch.Size([1, 512])\n",
      "image_feature: torch.Size([1, 512])\n",
      "question_feature: torch.Size([1, 512])\n",
      "image_feature: torch.Size([1, 512])\n",
      "question_feature: torch.Size([1, 512])\n",
      "image_feature: torch.Size([1, 512])\n",
      "question_feature: torch.Size([1, 512])\n",
      "image_feature: torch.Size([1, 512])\n"
     ]
    },
    {
     "name": "stderr",
     "output_type": "stream",
     "text": [
      "  6%|▌         | 288/4969 [00:07<02:10, 35.85it/s]"
     ]
    },
    {
     "name": "stdout",
     "output_type": "stream",
     "text": [
      "question_feature: torch.Size([1, 512])\n",
      "image_feature: torch.Size([1, 512])\n",
      "question_feature: torch.Size([1, 512])\n",
      "image_feature: torch.Size([1, 512])\n",
      "question_feature: torch.Size([1, 512])\n",
      "image_feature: torch.Size([1, 512])\n",
      "question_feature: torch.Size([1, 512])\n",
      "image_feature: torch.Size([1, 512])\n",
      "question_feature: torch.Size([1, 512])\n",
      "image_feature: torch.Size([1, 512])\n",
      "question_feature: torch.Size([1, 512])\n",
      "image_feature: torch.Size([1, 512])\n",
      "question_feature: torch.Size([1, 512])\n",
      "image_feature: torch.Size([1, 512])\n",
      "question_feature: torch.Size([1, 512])\n",
      "image_feature: torch.Size([1, 512])\n",
      "question_feature: torch.Size([1, 512])\n",
      "image_feature: torch.Size([1, 512])\n",
      "question_feature: torch.Size([1, 512])\n",
      "image_feature: torch.Size([1, 512])\n"
     ]
    },
    {
     "name": "stderr",
     "output_type": "stream",
     "text": [
      "  6%|▌         | 297/4969 [00:07<02:03, 37.73it/s]"
     ]
    },
    {
     "name": "stdout",
     "output_type": "stream",
     "text": [
      "question_feature: torch.Size([1, 512])\n",
      "image_feature: torch.Size([1, 512])\n",
      "question_feature: torch.Size([1, 512])\n",
      "image_feature: torch.Size([1, 512])\n",
      "question_feature: torch.Size([1, 512])\n",
      "image_feature: torch.Size([1, 512])\n",
      "question_feature: torch.Size([1, 512])\n",
      "image_feature: torch.Size([1, 512])\n",
      "question_feature: torch.Size([1, 512])\n",
      "image_feature: torch.Size([1, 512])\n",
      "question_feature: torch.Size([1, 512])\n",
      "image_feature: torch.Size([1, 512])\n",
      "question_feature: torch.Size([1, 512])\n",
      "image_feature: torch.Size([1, 512])\n",
      "question_feature: torch.Size([1, 512])\n",
      "image_feature: torch.Size([1, 512])\n"
     ]
    },
    {
     "name": "stderr",
     "output_type": "stream",
     "text": [
      "  6%|▌         | 301/4969 [00:08<02:09, 36.14it/s]"
     ]
    },
    {
     "name": "stdout",
     "output_type": "stream",
     "text": [
      "question_feature: torch.Size([1, 512])\n",
      "image_feature: torch.Size([1, 512])\n",
      "question_feature: torch.Size([1, 512])\n",
      "image_feature: torch.Size([1, 512])\n",
      "question_feature: torch.Size([1, 512])\n",
      "image_feature: torch.Size([1, 512])\n",
      "question_feature: torch.Size([1, 512])\n",
      "image_feature: torch.Size([1, 512])\n",
      "question_feature: torch.Size([1, 512])\n",
      "image_feature: torch.Size([1, 512])\n",
      "question_feature: torch.Size([1, 512])\n",
      "image_feature: torch.Size([1, 512])\n",
      "question_feature: torch.Size([1, 512])\n",
      "image_feature: torch.Size([1, 512])\n",
      "question_feature: torch.Size([1, 512])\n",
      "image_feature: torch.Size([1, 512])\n"
     ]
    },
    {
     "name": "stderr",
     "output_type": "stream",
     "text": [
      "  6%|▋         | 311/4969 [00:08<01:53, 41.22it/s]"
     ]
    },
    {
     "name": "stdout",
     "output_type": "stream",
     "text": [
      "question_feature: torch.Size([1, 512])\n",
      "image_feature: torch.Size([1, 512])\n",
      "question_feature: torch.Size([1, 512])\n",
      "image_feature: torch.Size([1, 512])\n",
      "question_feature: torch.Size([1, 512])\n",
      "image_feature: torch.Size([1, 512])\n",
      "question_feature: torch.Size([1, 512])\n",
      "image_feature: torch.Size([1, 512])\n",
      "question_feature: torch.Size([1, 512])\n",
      "image_feature: torch.Size([1, 512])\n",
      "question_feature: torch.Size([1, 512])\n",
      "image_feature: torch.Size([1, 512])\n",
      "question_feature: torch.Size([1, 512])\n",
      "image_feature: torch.Size([1, 512])\n",
      "question_feature: torch.Size([1, 512])\n",
      "image_feature: torch.Size([1, 512])\n",
      "question_feature: torch.Size([1, 512])\n",
      "image_feature: torch.Size([1, 512])\n"
     ]
    },
    {
     "name": "stderr",
     "output_type": "stream",
     "text": [
      "  6%|▋         | 320/4969 [00:08<02:02, 38.05it/s]"
     ]
    },
    {
     "name": "stdout",
     "output_type": "stream",
     "text": [
      "question_feature: torch.Size([1, 512])\n",
      "image_feature: torch.Size([1, 512])\n",
      "question_feature: torch.Size([1, 512])\n",
      "image_feature: torch.Size([1, 512])\n",
      "question_feature: torch.Size([1, 512])\n",
      "image_feature: torch.Size([1, 512])\n",
      "question_feature: torch.Size([1, 512])\n",
      "image_feature: torch.Size([1, 512])\n",
      "question_feature: torch.Size([1, 512])\n",
      "image_feature: torch.Size([1, 512])\n",
      "question_feature: torch.Size([1, 512])\n",
      "image_feature: torch.Size([1, 512])\n",
      "question_feature: torch.Size([1, 512])\n",
      "image_feature: torch.Size([1, 512])\n"
     ]
    },
    {
     "name": "stderr",
     "output_type": "stream",
     "text": [
      "  7%|▋         | 328/4969 [00:08<02:12, 35.10it/s]"
     ]
    },
    {
     "name": "stdout",
     "output_type": "stream",
     "text": [
      "question_feature: torch.Size([1, 512])\n",
      "image_feature: torch.Size([1, 512])\n",
      "question_feature: torch.Size([1, 512])\n",
      "image_feature: torch.Size([1, 512])\n",
      "question_feature: torch.Size([1, 512])\n",
      "image_feature: torch.Size([1, 512])\n",
      "question_feature: torch.Size([1, 512])\n",
      "image_feature: torch.Size([1, 512])\n",
      "question_feature: torch.Size([1, 512])\n",
      "image_feature: torch.Size([1, 512])\n",
      "question_feature: torch.Size([1, 512])\n",
      "image_feature: torch.Size([1, 512])\n",
      "question_feature: torch.Size([1, 512])\n",
      "image_feature: torch.Size([1, 512])\n"
     ]
    },
    {
     "name": "stderr",
     "output_type": "stream",
     "text": [
      "  7%|▋         | 338/4969 [00:09<01:59, 38.82it/s]"
     ]
    },
    {
     "name": "stdout",
     "output_type": "stream",
     "text": [
      "question_feature: torch.Size([1, 512])\n",
      "image_feature: torch.Size([1, 512])\n",
      "question_feature: torch.Size([1, 512])\n",
      "image_feature: torch.Size([1, 512])\n",
      "question_feature: torch.Size([1, 512])\n",
      "image_feature: torch.Size([1, 512])\n",
      "question_feature: torch.Size([1, 512])\n",
      "image_feature: torch.Size([1, 512])\n",
      "question_feature: torch.Size([1, 512])\n",
      "image_feature: torch.Size([1, 512])\n",
      "question_feature: torch.Size([1, 512])\n",
      "image_feature: torch.Size([1, 512])\n",
      "question_feature: torch.Size([1, 512])\n",
      "image_feature: torch.Size([1, 512])\n",
      "question_feature: torch.Size([1, 512])\n",
      "image_feature: torch.Size([1, 512])\n",
      "question_feature: torch.Size([1, 512])\n",
      "image_feature: torch.Size([1, 512])\n",
      "question_feature: torch.Size([1, 512])\n",
      "image_feature: torch.Size([1, 512])\n"
     ]
    },
    {
     "name": "stderr",
     "output_type": "stream",
     "text": [
      "  7%|▋         | 342/4969 [00:09<02:10, 35.55it/s]"
     ]
    },
    {
     "name": "stdout",
     "output_type": "stream",
     "text": [
      "question_feature: torch.Size([1, 512])\n",
      "image_feature: torch.Size([1, 512])\n",
      "question_feature: torch.Size([1, 512])\n",
      "image_feature: torch.Size([1, 512])\n",
      "question_feature: torch.Size([1, 512])\n",
      "image_feature: torch.Size([1, 512])\n",
      "question_feature: torch.Size([1, 512])\n",
      "image_feature: torch.Size([1, 512])\n",
      "question_feature: torch.Size([1, 512])\n",
      "image_feature: torch.Size([1, 512])\n",
      "question_feature: torch.Size([1, 512])\n",
      "image_feature: torch.Size([1, 512])\n",
      "question_feature: torch.Size([1, 512])\n",
      "image_feature: torch.Size([1, 512])\n",
      "question_feature: torch.Size([1, 512])\n",
      "image_feature: torch.Size([1, 512])\n"
     ]
    },
    {
     "name": "stderr",
     "output_type": "stream",
     "text": [
      "  7%|▋         | 351/4969 [00:09<02:16, 33.77it/s]"
     ]
    },
    {
     "name": "stdout",
     "output_type": "stream",
     "text": [
      "question_feature: torch.Size([1, 512])\n",
      "image_feature: torch.Size([1, 512])\n",
      "question_feature: torch.Size([1, 512])\n",
      "image_feature: torch.Size([1, 512])\n",
      "question_feature: torch.Size([1, 512])\n",
      "image_feature: torch.Size([1, 512])\n",
      "question_feature: torch.Size([1, 512])\n",
      "image_feature: torch.Size([1, 512])\n",
      "question_feature: torch.Size([1, 512])\n",
      "image_feature: torch.Size([1, 512])\n",
      "question_feature: torch.Size([1, 512])\n",
      "image_feature: torch.Size([1, 512])\n"
     ]
    },
    {
     "name": "stderr",
     "output_type": "stream",
     "text": [
      "  7%|▋         | 359/4969 [00:09<02:08, 35.90it/s]"
     ]
    },
    {
     "name": "stdout",
     "output_type": "stream",
     "text": [
      "question_feature: torch.Size([1, 512])\n",
      "image_feature: torch.Size([1, 512])\n",
      "question_feature: torch.Size([1, 512])\n",
      "image_feature: torch.Size([1, 512])\n",
      "question_feature: torch.Size([1, 512])\n",
      "image_feature: torch.Size([1, 512])\n",
      "question_feature: torch.Size([1, 512])\n",
      "image_feature: torch.Size([1, 512])\n",
      "question_feature: torch.Size([1, 512])\n",
      "image_feature: torch.Size([1, 512])\n",
      "question_feature: torch.Size([1, 512])\n",
      "image_feature: torch.Size([1, 512])\n",
      "question_feature: torch.Size([1, 512])\n",
      "image_feature: torch.Size([1, 512])\n",
      "question_feature: torch.Size([1, 512])\n",
      "image_feature: torch.Size([1, 512])\n"
     ]
    },
    {
     "name": "stderr",
     "output_type": "stream",
     "text": [
      "  7%|▋         | 368/4969 [00:09<02:06, 36.23it/s]"
     ]
    },
    {
     "name": "stdout",
     "output_type": "stream",
     "text": [
      "question_feature: torch.Size([1, 512])\n",
      "image_feature: torch.Size([1, 512])\n",
      "question_feature: torch.Size([1, 512])\n",
      "image_feature: torch.Size([1, 512])\n",
      "question_feature: torch.Size([1, 512])\n",
      "image_feature: torch.Size([1, 512])\n",
      "question_feature: torch.Size([1, 512])\n",
      "image_feature: torch.Size([1, 512])\n",
      "question_feature: torch.Size([1, 512])\n",
      "image_feature: torch.Size([1, 512])\n",
      "question_feature: torch.Size([1, 512])\n",
      "image_feature: torch.Size([1, 512])\n",
      "question_feature: torch.Size([1, 512])\n",
      "image_feature: torch.Size([1, 512])\n",
      "question_feature: torch.Size([1, 512])\n",
      "image_feature: torch.Size([1, 512])\n"
     ]
    },
    {
     "name": "stderr",
     "output_type": "stream",
     "text": [
      "  7%|▋         | 372/4969 [00:10<02:07, 35.98it/s]"
     ]
    },
    {
     "name": "stdout",
     "output_type": "stream",
     "text": [
      "question_feature: torch.Size([1, 512])\n",
      "image_feature: torch.Size([1, 512])\n",
      "question_feature: torch.Size([1, 512])\n",
      "image_feature: torch.Size([1, 512])\n",
      "question_feature: torch.Size([1, 512])\n",
      "image_feature: torch.Size([1, 512])\n",
      "question_feature: torch.Size([1, 512])\n",
      "image_feature: torch.Size([1, 512])\n",
      "question_feature: torch.Size([1, 512])\n",
      "image_feature: torch.Size([1, 512])\n",
      "question_feature: torch.Size([1, 512])\n",
      "image_feature: torch.Size([1, 512])\n"
     ]
    },
    {
     "name": "stderr",
     "output_type": "stream",
     "text": [
      "  8%|▊         | 380/4969 [00:10<02:30, 30.41it/s]"
     ]
    },
    {
     "name": "stdout",
     "output_type": "stream",
     "text": [
      "question_feature: torch.Size([1, 512])\n",
      "image_feature: torch.Size([1, 512])\n",
      "question_feature: torch.Size([1, 512])\n",
      "image_feature: torch.Size([1, 512])\n",
      "question_feature: torch.Size([1, 512])\n",
      "image_feature: torch.Size([1, 512])\n",
      "question_feature: torch.Size([1, 512])\n",
      "image_feature: torch.Size([1, 512])\n",
      "question_feature: torch.Size([1, 512])\n",
      "image_feature: torch.Size([1, 512])\n",
      "question_feature: torch.Size([1, 512])\n",
      "image_feature: torch.Size([1, 512])\n"
     ]
    },
    {
     "name": "stderr",
     "output_type": "stream",
     "text": [
      "  8%|▊         | 384/4969 [00:10<02:26, 31.29it/s]"
     ]
    },
    {
     "name": "stdout",
     "output_type": "stream",
     "text": [
      "question_feature: torch.Size([1, 512])\n",
      "image_feature: torch.Size([1, 512])\n",
      "question_feature: torch.Size([1, 512])\n",
      "image_feature: torch.Size([1, 512])\n",
      "question_feature: torch.Size([1, 512])\n",
      "image_feature: torch.Size([1, 512])\n",
      "question_feature: torch.Size([1, 512])\n",
      "image_feature: torch.Size([1, 512])\n",
      "question_feature: torch.Size([1, 512])\n",
      "image_feature: torch.Size([1, 512])\n",
      "question_feature: torch.Size([1, 512])\n",
      "image_feature: torch.Size([1, 512])\n",
      "question_feature: torch.Size([1, 512])\n",
      "image_feature: torch.Size([1, 512])\n"
     ]
    },
    {
     "name": "stderr",
     "output_type": "stream",
     "text": [
      "  8%|▊         | 393/4969 [00:10<02:19, 32.69it/s]"
     ]
    },
    {
     "name": "stdout",
     "output_type": "stream",
     "text": [
      "question_feature: torch.Size([1, 512])\n",
      "image_feature: torch.Size([1, 512])\n",
      "question_feature: torch.Size([1, 512])\n",
      "image_feature: torch.Size([1, 512])\n",
      "question_feature: torch.Size([1, 512])\n",
      "image_feature: torch.Size([1, 512])\n",
      "question_feature: torch.Size([1, 512])\n",
      "image_feature: torch.Size([1, 512])\n",
      "question_feature: torch.Size([1, 512])\n",
      "image_feature: torch.Size([1, 512])\n",
      "question_feature: torch.Size([1, 512])\n",
      "image_feature: torch.Size([1, 512])\n",
      "question_feature: torch.Size([1, 512])\n",
      "image_feature: torch.Size([1, 512])\n",
      "question_feature: torch.Size([1, 512])\n",
      "image_feature: torch.Size([1, 512])\n",
      "question_feature: torch.Size([1, 512])\n",
      "image_feature: torch.Size([1, 512])\n"
     ]
    },
    {
     "name": "stderr",
     "output_type": "stream",
     "text": [
      "  8%|▊         | 403/4969 [00:10<02:01, 37.51it/s]"
     ]
    },
    {
     "name": "stdout",
     "output_type": "stream",
     "text": [
      "question_feature: torch.Size([1, 512])\n",
      "image_feature: torch.Size([1, 512])\n",
      "question_feature: torch.Size([1, 512])\n",
      "image_feature: torch.Size([1, 512])\n",
      "question_feature: torch.Size([1, 512])\n",
      "image_feature: torch.Size([1, 512])\n",
      "question_feature: torch.Size([1, 512])\n",
      "image_feature: torch.Size([1, 512])\n",
      "question_feature: torch.Size([1, 512])\n",
      "image_feature: torch.Size([1, 512])\n",
      "question_feature: torch.Size([1, 512])\n",
      "image_feature: torch.Size([1, 512])\n",
      "question_feature: torch.Size([1, 512])\n",
      "image_feature: torch.Size([1, 512])\n",
      "question_feature: torch.Size([1, 512])\n",
      "image_feature: torch.Size([1, 512])\n",
      "question_feature: torch.Size([1, 512])\n",
      "image_feature: torch.Size([1, 512])\n"
     ]
    },
    {
     "name": "stderr",
     "output_type": "stream",
     "text": [
      "  8%|▊         | 412/4969 [00:11<02:01, 37.44it/s]"
     ]
    },
    {
     "name": "stdout",
     "output_type": "stream",
     "text": [
      "question_feature: torch.Size([1, 512])\n",
      "image_feature: torch.Size([1, 512])\n",
      "question_feature: torch.Size([1, 512])\n",
      "image_feature: torch.Size([1, 512])\n",
      "question_feature: torch.Size([1, 512])\n",
      "image_feature: torch.Size([1, 512])\n",
      "question_feature: torch.Size([1, 512])\n",
      "image_feature: torch.Size([1, 512])\n",
      "question_feature: torch.Size([1, 512])\n",
      "image_feature: torch.Size([1, 512])\n",
      "question_feature: torch.Size([1, 512])\n",
      "image_feature: torch.Size([1, 512])\n",
      "question_feature: torch.Size([1, 512])\n",
      "image_feature: torch.Size([1, 512])\n",
      "question_feature: torch.Size([1, 512])\n",
      "image_feature: torch.Size([1, 512])\n"
     ]
    },
    {
     "name": "stderr",
     "output_type": "stream",
     "text": [
      "  8%|▊         | 420/4969 [00:11<02:17, 33.19it/s]"
     ]
    },
    {
     "name": "stdout",
     "output_type": "stream",
     "text": [
      "question_feature: torch.Size([1, 512])\n",
      "image_feature: torch.Size([1, 512])\n",
      "question_feature: torch.Size([1, 512])\n",
      "image_feature: torch.Size([1, 512])\n",
      "question_feature: torch.Size([1, 512])\n",
      "image_feature: torch.Size([1, 512])\n",
      "question_feature: torch.Size([1, 512])\n",
      "image_feature: torch.Size([1, 512])\n",
      "question_feature: torch.Size([1, 512])\n",
      "image_feature: torch.Size([1, 512])\n",
      "question_feature: torch.Size([1, 512])\n",
      "image_feature: torch.Size([1, 512])\n",
      "question_feature: torch.Size([1, 512])\n",
      "image_feature: torch.Size([1, 512])\n"
     ]
    },
    {
     "name": "stderr",
     "output_type": "stream",
     "text": [
      "  9%|▊         | 428/4969 [00:11<02:12, 34.26it/s]"
     ]
    },
    {
     "name": "stdout",
     "output_type": "stream",
     "text": [
      "question_feature: torch.Size([1, 512])\n",
      "image_feature: torch.Size([1, 512])\n",
      "question_feature: torch.Size([1, 512])\n",
      "image_feature: torch.Size([1, 512])\n",
      "question_feature: torch.Size([1, 512])\n",
      "image_feature: torch.Size([1, 512])\n",
      "question_feature: torch.Size([1, 512])\n",
      "image_feature: torch.Size([1, 512])\n",
      "question_feature: torch.Size([1, 512])\n",
      "image_feature: torch.Size([1, 512])\n",
      "question_feature: torch.Size([1, 512])\n",
      "image_feature: torch.Size([1, 512])\n",
      "question_feature: torch.Size([1, 512])\n",
      "image_feature: torch.Size([1, 512])\n",
      "question_feature: torch.Size([1, 512])\n",
      "image_feature: torch.Size([1, 512])\n",
      "question_feature: torch.Size([1, 512])\n",
      "image_feature: torch.Size([1, 512])\n"
     ]
    },
    {
     "name": "stderr",
     "output_type": "stream",
     "text": [
      "  9%|▊         | 432/4969 [00:11<02:09, 34.99it/s]"
     ]
    },
    {
     "name": "stdout",
     "output_type": "stream",
     "text": [
      "question_feature: torch.Size([1, 512])\n",
      "image_feature: torch.Size([1, 512])\n",
      "question_feature: torch.Size([1, 512])\n",
      "image_feature: torch.Size([1, 512])\n",
      "question_feature: torch.Size([1, 512])\n",
      "image_feature: torch.Size([1, 512])\n",
      "question_feature: torch.Size([1, 512])\n",
      "image_feature: torch.Size([1, 512])\n",
      "question_feature: torch.Size([1, 512])\n",
      "image_feature: torch.Size([1, 512])\n",
      "question_feature: torch.Size([1, 512])\n",
      "image_feature: torch.Size([1, 512])\n"
     ]
    },
    {
     "name": "stderr",
     "output_type": "stream",
     "text": [
      "  9%|▉         | 440/4969 [00:12<02:28, 30.45it/s]"
     ]
    },
    {
     "name": "stdout",
     "output_type": "stream",
     "text": [
      "question_feature: torch.Size([1, 512])\n",
      "image_feature: torch.Size([1, 512])\n",
      "question_feature: torch.Size([1, 512])\n",
      "image_feature: torch.Size([1, 512])\n",
      "question_feature: torch.Size([1, 512])\n",
      "image_feature: torch.Size([1, 512])\n",
      "question_feature: torch.Size([1, 512])\n",
      "image_feature: torch.Size([1, 512])\n",
      "question_feature: torch.Size([1, 512])\n",
      "image_feature: torch.Size([1, 512])\n",
      "question_feature: torch.Size([1, 512])\n",
      "image_feature: torch.Size([1, 512])\n"
     ]
    },
    {
     "name": "stderr",
     "output_type": "stream",
     "text": [
      "  9%|▉         | 448/4969 [00:12<02:25, 31.09it/s]"
     ]
    },
    {
     "name": "stdout",
     "output_type": "stream",
     "text": [
      "question_feature: torch.Size([1, 512])\n",
      "image_feature: torch.Size([1, 512])\n",
      "question_feature: torch.Size([1, 512])\n",
      "image_feature: torch.Size([1, 512])\n",
      "question_feature: torch.Size([1, 512])\n",
      "image_feature: torch.Size([1, 512])\n",
      "question_feature: torch.Size([1, 512])\n",
      "image_feature: torch.Size([1, 512])\n",
      "question_feature: torch.Size([1, 512])\n",
      "image_feature: torch.Size([1, 512])\n",
      "question_feature: torch.Size([1, 512])\n",
      "image_feature: torch.Size([1, 512])\n",
      "question_feature: torch.Size([1, 512])\n",
      "image_feature: torch.Size([1, 512])\n"
     ]
    },
    {
     "name": "stderr",
     "output_type": "stream",
     "text": [
      "  9%|▉         | 457/4969 [00:12<02:16, 33.12it/s]"
     ]
    },
    {
     "name": "stdout",
     "output_type": "stream",
     "text": [
      "question_feature: torch.Size([1, 512])\n",
      "image_feature: torch.Size([1, 512])\n",
      "question_feature: torch.Size([1, 512])\n",
      "image_feature: torch.Size([1, 512])\n",
      "question_feature: torch.Size([1, 512])\n",
      "image_feature: torch.Size([1, 512])\n",
      "question_feature: torch.Size([1, 512])\n",
      "image_feature: torch.Size([1, 512])\n",
      "question_feature: torch.Size([1, 512])\n",
      "image_feature: torch.Size([1, 512])\n",
      "question_feature: torch.Size([1, 512])\n",
      "image_feature: torch.Size([1, 512])\n",
      "question_feature: torch.Size([1, 512])\n",
      "image_feature: torch.Size([1, 512])\n",
      "question_feature: torch.Size([1, 512])\n",
      "image_feature: torch.Size([1, 512])\n",
      "question_feature: torch.Size([1, 512])\n",
      "image_feature: torch.Size([1, 512])\n"
     ]
    },
    {
     "name": "stderr",
     "output_type": "stream",
     "text": [
      "  9%|▉         | 461/4969 [00:12<02:15, 33.37it/s]"
     ]
    },
    {
     "name": "stdout",
     "output_type": "stream",
     "text": [
      "question_feature: torch.Size([1, 512])\n",
      "image_feature: torch.Size([1, 512])\n",
      "question_feature: torch.Size([1, 512])\n",
      "image_feature: torch.Size([1, 512])\n",
      "question_feature: torch.Size([1, 512])\n",
      "image_feature: torch.Size([1, 512])\n",
      "question_feature: torch.Size([1, 512])\n",
      "image_feature: torch.Size([1, 512])\n",
      "question_feature: torch.Size([1, 512])\n",
      "image_feature: torch.Size([1, 512])\n",
      "question_feature: torch.Size([1, 512])\n",
      "image_feature: torch.Size([1, 512])\n",
      "question_feature: torch.Size([1, 512])\n",
      "image_feature: torch.Size([1, 512])\n"
     ]
    },
    {
     "name": "stderr",
     "output_type": "stream",
     "text": [
      "  9%|▉         | 469/4969 [00:12<02:15, 33.09it/s]"
     ]
    },
    {
     "name": "stdout",
     "output_type": "stream",
     "text": [
      "question_feature: torch.Size([1, 512])\n",
      "image_feature: torch.Size([1, 512])\n",
      "question_feature: torch.Size([1, 512])\n",
      "image_feature: torch.Size([1, 512])\n",
      "question_feature: torch.Size([1, 512])\n",
      "image_feature: torch.Size([1, 512])\n",
      "question_feature: torch.Size([1, 512])\n",
      "image_feature: torch.Size([1, 512])\n",
      "question_feature: torch.Size([1, 512])\n",
      "image_feature: torch.Size([1, 512])\n",
      "question_feature: torch.Size([1, 512])\n",
      "image_feature: torch.Size([1, 512])\n",
      "question_feature: torch.Size([1, 512])\n",
      "image_feature: torch.Size([1, 512])\n"
     ]
    },
    {
     "name": "stderr",
     "output_type": "stream",
     "text": [
      " 10%|▉         | 478/4969 [00:13<02:09, 34.55it/s]"
     ]
    },
    {
     "name": "stdout",
     "output_type": "stream",
     "text": [
      "question_feature: torch.Size([1, 512])\n",
      "image_feature: torch.Size([1, 512])\n",
      "question_feature: torch.Size([1, 512])\n",
      "image_feature: torch.Size([1, 512])\n",
      "question_feature: torch.Size([1, 512])\n",
      "image_feature: torch.Size([1, 512])\n",
      "question_feature: torch.Size([1, 512])\n",
      "image_feature: torch.Size([1, 512])\n",
      "question_feature: torch.Size([1, 512])\n",
      "image_feature: torch.Size([1, 512])\n",
      "question_feature: torch.Size([1, 512])\n",
      "image_feature: torch.Size([1, 512])\n",
      "question_feature: torch.Size([1, 512])\n",
      "image_feature: torch.Size([1, 512])\n"
     ]
    },
    {
     "name": "stderr",
     "output_type": "stream",
     "text": [
      " 10%|▉         | 487/4969 [00:13<02:03, 36.33it/s]"
     ]
    },
    {
     "name": "stdout",
     "output_type": "stream",
     "text": [
      "question_feature: torch.Size([1, 512])\n",
      "image_feature: torch.Size([1, 512])\n",
      "question_feature: torch.Size([1, 512])\n",
      "image_feature: torch.Size([1, 512])\n",
      "question_feature: torch.Size([1, 512])\n",
      "image_feature: torch.Size([1, 512])\n",
      "question_feature: torch.Size([1, 512])\n",
      "image_feature: torch.Size([1, 512])\n",
      "question_feature: torch.Size([1, 512])\n",
      "image_feature: torch.Size([1, 512])\n",
      "question_feature: torch.Size([1, 512])\n",
      "image_feature: torch.Size([1, 512])\n",
      "question_feature: torch.Size([1, 512])\n",
      "image_feature: torch.Size([1, 512])\n",
      "question_feature: torch.Size([1, 512])\n",
      "image_feature: torch.Size([1, 512])\n",
      "question_feature: torch.Size([1, 512])\n",
      "image_feature: torch.Size([1, 512])\n"
     ]
    },
    {
     "name": "stderr",
     "output_type": "stream",
     "text": [
      " 10%|█         | 497/4969 [00:13<01:53, 39.55it/s]"
     ]
    },
    {
     "name": "stdout",
     "output_type": "stream",
     "text": [
      "question_feature: torch.Size([1, 512])\n",
      "image_feature: torch.Size([1, 512])\n",
      "question_feature: torch.Size([1, 512])\n",
      "image_feature: torch.Size([1, 512])\n",
      "question_feature: torch.Size([1, 512])\n",
      "image_feature: torch.Size([1, 512])\n",
      "question_feature: torch.Size([1, 512])\n",
      "image_feature: torch.Size([1, 512])\n",
      "question_feature: torch.Size([1, 512])\n",
      "image_feature: torch.Size([1, 512])\n",
      "question_feature: torch.Size([1, 512])\n",
      "image_feature: torch.Size([1, 512])\n",
      "question_feature: torch.Size([1, 512])\n",
      "image_feature: torch.Size([1, 512])\n",
      "question_feature: torch.Size([1, 512])\n",
      "image_feature: torch.Size([1, 512])\n",
      "question_feature: torch.Size([1, 512])\n",
      "image_feature: torch.Size([1, 512])\n",
      "question_feature: torch.Size([1, 512])\n",
      "image_feature: torch.Size([1, 512])\n"
     ]
    },
    {
     "name": "stderr",
     "output_type": "stream",
     "text": [
      " 10%|█         | 502/4969 [00:13<01:46, 42.03it/s]"
     ]
    },
    {
     "name": "stdout",
     "output_type": "stream",
     "text": [
      "question_feature: torch.Size([1, 512])\n",
      "image_feature: torch.Size([1, 512])\n",
      "question_feature: torch.Size([1, 512])\n",
      "image_feature: torch.Size([1, 512])\n",
      "question_feature: torch.Size([1, 512])\n",
      "image_feature: torch.Size([1, 512])\n",
      "question_feature: torch.Size([1, 512])\n",
      "image_feature: torch.Size([1, 512])\n",
      "question_feature: torch.Size([1, 512])\n",
      "image_feature: torch.Size([1, 512])\n",
      "question_feature: torch.Size([1, 512])\n",
      "image_feature: torch.Size([1, 512])\n",
      "question_feature: torch.Size([1, 512])\n",
      "image_feature: torch.Size([1, 512])\n",
      "question_feature: torch.Size([1, 512])\n",
      "image_feature: torch.Size([1, 512])\n",
      "question_feature: torch.Size([1, 512])\n",
      "image_feature: torch.Size([1, 512])\n"
     ]
    },
    {
     "name": "stderr",
     "output_type": "stream",
     "text": [
      " 10%|█         | 512/4969 [00:14<01:54, 38.88it/s]"
     ]
    },
    {
     "name": "stdout",
     "output_type": "stream",
     "text": [
      "question_feature: torch.Size([1, 512])\n",
      "image_feature: torch.Size([1, 512])\n",
      "question_feature: torch.Size([1, 512])\n",
      "image_feature: torch.Size([1, 512])\n",
      "question_feature: torch.Size([1, 512])\n",
      "image_feature: torch.Size([1, 512])\n",
      "question_feature: torch.Size([1, 512])\n",
      "image_feature: torch.Size([1, 512])\n",
      "question_feature: torch.Size([1, 512])\n",
      "image_feature: torch.Size([1, 512])\n",
      "question_feature: torch.Size([1, 512])\n",
      "image_feature: torch.Size([1, 512])\n",
      "question_feature: torch.Size([1, 512])\n",
      "image_feature: torch.Size([1, 512])\n",
      "question_feature: torch.Size([1, 512])\n",
      "image_feature: torch.Size([1, 512])\n",
      "question_feature: torch.Size([1, 512])\n",
      "image_feature: torch.Size([1, 512])\n"
     ]
    },
    {
     "name": "stderr",
     "output_type": "stream",
     "text": [
      " 10%|█         | 517/4969 [00:14<01:54, 38.79it/s]"
     ]
    },
    {
     "name": "stdout",
     "output_type": "stream",
     "text": [
      "question_feature: torch.Size([1, 512])\n",
      "image_feature: torch.Size([1, 512])\n",
      "question_feature: torch.Size([1, 512])\n",
      "image_feature: torch.Size([1, 512])\n",
      "question_feature: torch.Size([1, 512])\n",
      "image_feature: torch.Size([1, 512])\n",
      "question_feature: torch.Size([1, 512])\n",
      "image_feature: torch.Size([1, 512])\n",
      "question_feature: torch.Size([1, 512])\n",
      "image_feature: torch.Size([1, 512])\n"
     ]
    },
    {
     "name": "stderr",
     "output_type": "stream",
     "text": [
      " 11%|█         | 527/4969 [00:14<01:58, 37.55it/s]"
     ]
    },
    {
     "name": "stdout",
     "output_type": "stream",
     "text": [
      "question_feature: torch.Size([1, 512])\n",
      "image_feature: torch.Size([1, 512])\n",
      "question_feature: torch.Size([1, 512])\n",
      "image_feature: torch.Size([1, 512])\n",
      "question_feature: torch.Size([1, 512])\n",
      "image_feature: torch.Size([1, 512])\n",
      "question_feature: torch.Size([1, 512])\n",
      "image_feature: torch.Size([1, 512])\n",
      "question_feature: torch.Size([1, 512])\n",
      "image_feature: torch.Size([1, 512])\n",
      "question_feature: torch.Size([1, 512])\n",
      "image_feature: torch.Size([1, 512])\n",
      "question_feature: torch.Size([1, 512])\n",
      "image_feature: torch.Size([1, 512])\n",
      "question_feature: torch.Size([1, 512])\n",
      "image_feature: torch.Size([1, 512])\n",
      "question_feature: torch.Size([1, 512])\n",
      "image_feature: torch.Size([1, 512])\n",
      "question_feature: torch.Size([1, 512])\n",
      "image_feature: torch.Size([1, 512])\n"
     ]
    },
    {
     "name": "stderr",
     "output_type": "stream",
     "text": [
      " 11%|█         | 537/4969 [00:14<01:51, 39.70it/s]"
     ]
    },
    {
     "name": "stdout",
     "output_type": "stream",
     "text": [
      "question_feature: torch.Size([1, 512])\n",
      "image_feature: torch.Size([1, 512])\n",
      "question_feature: torch.Size([1, 512])\n",
      "image_feature: torch.Size([1, 512])\n",
      "question_feature: torch.Size([1, 512])\n",
      "image_feature: torch.Size([1, 512])\n",
      "question_feature: torch.Size([1, 512])\n",
      "image_feature: torch.Size([1, 512])\n",
      "question_feature: torch.Size([1, 512])\n",
      "image_feature: torch.Size([1, 512])\n",
      "question_feature: torch.Size([1, 512])\n",
      "image_feature: torch.Size([1, 512])\n",
      "question_feature: torch.Size([1, 512])\n",
      "image_feature: torch.Size([1, 512])\n",
      "question_feature: torch.Size([1, 512])\n",
      "image_feature: torch.Size([1, 512])\n"
     ]
    },
    {
     "name": "stderr",
     "output_type": "stream",
     "text": [
      " 11%|█         | 546/4969 [00:15<02:03, 35.93it/s]"
     ]
    },
    {
     "name": "stdout",
     "output_type": "stream",
     "text": [
      "question_feature: torch.Size([1, 512])\n",
      "image_feature: torch.Size([1, 512])\n",
      "question_feature: torch.Size([1, 512])\n",
      "image_feature: torch.Size([1, 512])\n",
      "question_feature: torch.Size([1, 512])\n",
      "image_feature: torch.Size([1, 512])\n",
      "question_feature: torch.Size([1, 512])\n",
      "image_feature: torch.Size([1, 512])\n",
      "question_feature: torch.Size([1, 512])\n",
      "image_feature: torch.Size([1, 512])\n",
      "question_feature: torch.Size([1, 512])\n",
      "image_feature: torch.Size([1, 512])\n",
      "question_feature: torch.Size([1, 512])\n",
      "image_feature: torch.Size([1, 512])\n",
      "question_feature: torch.Size([1, 512])\n",
      "image_feature: torch.Size([1, 512])\n"
     ]
    },
    {
     "name": "stderr",
     "output_type": "stream",
     "text": [
      " 11%|█         | 555/4969 [00:15<01:56, 38.04it/s]"
     ]
    },
    {
     "name": "stdout",
     "output_type": "stream",
     "text": [
      "question_feature: torch.Size([1, 512])\n",
      "image_feature: torch.Size([1, 512])\n",
      "question_feature: torch.Size([1, 512])\n",
      "image_feature: torch.Size([1, 512])\n",
      "question_feature: torch.Size([1, 512])\n",
      "image_feature: torch.Size([1, 512])\n",
      "question_feature: torch.Size([1, 512])\n",
      "image_feature: torch.Size([1, 512])\n",
      "question_feature: torch.Size([1, 512])\n",
      "image_feature: torch.Size([1, 512])\n",
      "question_feature: torch.Size([1, 512])\n",
      "image_feature: torch.Size([1, 512])\n",
      "question_feature: torch.Size([1, 512])\n",
      "image_feature: torch.Size([1, 512])\n",
      "question_feature: torch.Size([1, 512])\n",
      "image_feature: torch.Size([1, 512])\n",
      "question_feature: torch.Size([1, 512])\n",
      "image_feature: torch.Size([1, 512])\n"
     ]
    },
    {
     "name": "stderr",
     "output_type": "stream",
     "text": [
      " 11%|█         | 559/4969 [00:15<02:06, 34.80it/s]"
     ]
    },
    {
     "name": "stdout",
     "output_type": "stream",
     "text": [
      "question_feature: torch.Size([1, 512])\n",
      "image_feature: torch.Size([1, 512])\n",
      "question_feature: torch.Size([1, 512])\n",
      "image_feature: torch.Size([1, 512])\n",
      "question_feature: torch.Size([1, 512])\n",
      "image_feature: torch.Size([1, 512])\n",
      "question_feature: torch.Size([1, 512])\n",
      "image_feature: torch.Size([1, 512])\n",
      "question_feature: torch.Size([1, 512])\n",
      "image_feature: torch.Size([1, 512])\n",
      "question_feature: torch.Size([1, 512])\n",
      "image_feature: torch.Size([1, 512])\n"
     ]
    },
    {
     "name": "stderr",
     "output_type": "stream",
     "text": [
      " 11%|█▏        | 567/4969 [00:15<02:06, 34.79it/s]"
     ]
    },
    {
     "name": "stdout",
     "output_type": "stream",
     "text": [
      "question_feature: torch.Size([1, 512])\n",
      "image_feature: torch.Size([1, 512])\n",
      "question_feature: torch.Size([1, 512])\n",
      "image_feature: torch.Size([1, 512])\n",
      "question_feature: torch.Size([1, 512])\n",
      "image_feature: torch.Size([1, 512])\n",
      "question_feature: torch.Size([1, 512])\n",
      "image_feature: torch.Size([1, 512])\n",
      "question_feature: torch.Size([1, 512])\n",
      "image_feature: torch.Size([1, 512])\n",
      "question_feature: torch.Size([1, 512])\n",
      "image_feature: torch.Size([1, 512])\n",
      "question_feature: torch.Size([1, 512])\n",
      "image_feature: torch.Size([1, 512])\n",
      "question_feature: torch.Size([1, 512])\n",
      "image_feature: torch.Size([1, 512])\n",
      "question_feature: torch.Size([1, 512])\n",
      "image_feature: torch.Size([1, 512])\n"
     ]
    },
    {
     "name": "stderr",
     "output_type": "stream",
     "text": [
      " 12%|█▏        | 575/4969 [00:15<01:59, 36.72it/s]"
     ]
    },
    {
     "name": "stdout",
     "output_type": "stream",
     "text": [
      "question_feature: torch.Size([1, 512])\n",
      "image_feature: torch.Size([1, 512])\n",
      "question_feature: torch.Size([1, 512])\n",
      "image_feature: torch.Size([1, 512])\n",
      "question_feature: torch.Size([1, 512])\n",
      "image_feature: torch.Size([1, 512])\n",
      "question_feature: torch.Size([1, 512])\n",
      "image_feature: torch.Size([1, 512])\n",
      "question_feature: torch.Size([1, 512])\n",
      "image_feature: torch.Size([1, 512])\n",
      "question_feature: torch.Size([1, 512])\n",
      "image_feature: torch.Size([1, 512])\n",
      "question_feature: torch.Size([1, 512])\n",
      "image_feature: torch.Size([1, 512])\n",
      "question_feature: torch.Size([1, 512])\n",
      "image_feature: torch.Size([1, 512])\n"
     ]
    },
    {
     "name": "stderr",
     "output_type": "stream",
     "text": [
      " 12%|█▏        | 583/4969 [00:16<02:07, 34.38it/s]"
     ]
    },
    {
     "name": "stdout",
     "output_type": "stream",
     "text": [
      "question_feature: torch.Size([1, 512])\n",
      "image_feature: torch.Size([1, 512])\n",
      "question_feature: torch.Size([1, 512])\n",
      "image_feature: torch.Size([1, 512])\n",
      "question_feature: torch.Size([1, 512])\n",
      "image_feature: torch.Size([1, 512])\n",
      "question_feature: torch.Size([1, 512])\n",
      "image_feature: torch.Size([1, 512])\n",
      "question_feature: torch.Size([1, 512])\n",
      "image_feature: torch.Size([1, 512])\n",
      "question_feature: torch.Size([1, 512])\n",
      "image_feature: torch.Size([1, 512])\n",
      "question_feature: torch.Size([1, 512])\n",
      "image_feature: torch.Size([1, 512])\n",
      "question_feature: torch.Size([1, 512])\n",
      "image_feature: torch.Size([1, 512])\n"
     ]
    },
    {
     "name": "stderr",
     "output_type": "stream",
     "text": [
      " 12%|█▏        | 591/4969 [00:16<02:01, 36.01it/s]"
     ]
    },
    {
     "name": "stdout",
     "output_type": "stream",
     "text": [
      "question_feature: torch.Size([1, 512])\n",
      "image_feature: torch.Size([1, 512])\n",
      "question_feature: torch.Size([1, 512])\n",
      "image_feature: torch.Size([1, 512])\n",
      "question_feature: torch.Size([1, 512])\n",
      "image_feature: torch.Size([1, 512])\n",
      "question_feature: torch.Size([1, 512])\n",
      "image_feature: torch.Size([1, 512])\n",
      "question_feature: torch.Size([1, 512])\n",
      "image_feature: torch.Size([1, 512])\n",
      "question_feature: torch.Size([1, 512])\n",
      "image_feature: torch.Size([1, 512])\n",
      "question_feature: torch.Size([1, 512])\n",
      "image_feature: torch.Size([1, 512])\n",
      "question_feature: torch.Size([1, 512])\n",
      "image_feature: torch.Size([1, 512])\n",
      "question_feature: torch.Size([1, 512])\n",
      "image_feature: torch.Size([1, 512])\n"
     ]
    },
    {
     "name": "stderr",
     "output_type": "stream",
     "text": [
      " 12%|█▏        | 601/4969 [00:16<01:47, 40.62it/s]"
     ]
    },
    {
     "name": "stdout",
     "output_type": "stream",
     "text": [
      "question_feature: torch.Size([1, 512])\n",
      "image_feature: torch.Size([1, 512])\n",
      "question_feature: torch.Size([1, 512])\n",
      "image_feature: torch.Size([1, 512])\n",
      "question_feature: torch.Size([1, 512])\n",
      "image_feature: torch.Size([1, 512])\n",
      "question_feature: torch.Size([1, 512])\n",
      "image_feature: torch.Size([1, 512])\n",
      "question_feature: torch.Size([1, 512])\n",
      "image_feature: torch.Size([1, 512])\n",
      "question_feature: torch.Size([1, 512])\n",
      "image_feature: torch.Size([1, 512])\n",
      "question_feature: torch.Size([1, 512])\n",
      "image_feature: torch.Size([1, 512])\n",
      "question_feature: torch.Size([1, 512])\n",
      "image_feature: torch.Size([1, 512])\n",
      "question_feature: torch.Size([1, 512])\n",
      "image_feature: torch.Size([1, 512])\n",
      "question_feature: torch.Size([1, 512])\n",
      "image_feature: torch.Size([1, 512])\n"
     ]
    },
    {
     "name": "stderr",
     "output_type": "stream",
     "text": [
      " 12%|█▏        | 611/4969 [00:16<01:52, 38.67it/s]"
     ]
    },
    {
     "name": "stdout",
     "output_type": "stream",
     "text": [
      "question_feature: torch.Size([1, 512])\n",
      "image_feature: torch.Size([1, 512])\n",
      "question_feature: torch.Size([1, 512])\n",
      "image_feature: torch.Size([1, 512])\n",
      "question_feature: torch.Size([1, 512])\n",
      "image_feature: torch.Size([1, 512])\n",
      "question_feature: torch.Size([1, 512])\n",
      "image_feature: torch.Size([1, 512])\n",
      "question_feature: torch.Size([1, 512])\n",
      "image_feature: torch.Size([1, 512])\n",
      "question_feature: torch.Size([1, 512])\n",
      "image_feature: torch.Size([1, 512])\n",
      "question_feature: torch.Size([1, 512])\n",
      "image_feature: torch.Size([1, 512])\n",
      "question_feature: torch.Size([1, 512])\n",
      "image_feature: torch.Size([1, 512])\n"
     ]
    },
    {
     "name": "stderr",
     "output_type": "stream",
     "text": [
      " 12%|█▏        | 619/4969 [00:17<01:57, 37.18it/s]"
     ]
    },
    {
     "name": "stdout",
     "output_type": "stream",
     "text": [
      "question_feature: torch.Size([1, 512])\n",
      "image_feature: torch.Size([1, 512])\n",
      "question_feature: torch.Size([1, 512])\n",
      "image_feature: torch.Size([1, 512])\n",
      "question_feature: torch.Size([1, 512])\n",
      "image_feature: torch.Size([1, 512])\n",
      "question_feature: torch.Size([1, 512])\n",
      "image_feature: torch.Size([1, 512])\n",
      "question_feature: torch.Size([1, 512])\n",
      "image_feature: torch.Size([1, 512])\n",
      "question_feature: torch.Size([1, 512])\n",
      "image_feature: torch.Size([1, 512])\n",
      "question_feature: torch.Size([1, 512])\n",
      "image_feature: torch.Size([1, 512])\n",
      "question_feature: torch.Size([1, 512])\n",
      "image_feature: torch.Size([1, 512])\n",
      "question_feature: torch.Size([1, 512])\n",
      "image_feature: torch.Size([1, 512])\n"
     ]
    },
    {
     "name": "stderr",
     "output_type": "stream",
     "text": [
      " 13%|█▎        | 629/4969 [00:17<01:53, 38.16it/s]"
     ]
    },
    {
     "name": "stdout",
     "output_type": "stream",
     "text": [
      "question_feature: torch.Size([1, 512])\n",
      "image_feature: torch.Size([1, 512])\n",
      "question_feature: torch.Size([1, 512])\n",
      "image_feature: torch.Size([1, 512])\n",
      "question_feature: torch.Size([1, 512])\n",
      "image_feature: torch.Size([1, 512])\n",
      "question_feature: torch.Size([1, 512])\n",
      "image_feature: torch.Size([1, 512])\n",
      "question_feature: torch.Size([1, 512])\n",
      "image_feature: torch.Size([1, 512])\n",
      "question_feature: torch.Size([1, 512])\n",
      "image_feature: torch.Size([1, 512])\n",
      "question_feature: torch.Size([1, 512])\n",
      "image_feature: torch.Size([1, 512])\n",
      "question_feature: torch.Size([1, 512])\n",
      "image_feature: torch.Size([1, 512])\n"
     ]
    },
    {
     "name": "stderr",
     "output_type": "stream",
     "text": [
      " 13%|█▎        | 637/4969 [00:17<02:07, 34.01it/s]"
     ]
    },
    {
     "name": "stdout",
     "output_type": "stream",
     "text": [
      "question_feature: torch.Size([1, 512])\n",
      "image_feature: torch.Size([1, 512])\n",
      "question_feature: torch.Size([1, 512])\n",
      "image_feature: torch.Size([1, 512])\n",
      "question_feature: torch.Size([1, 512])\n",
      "image_feature: torch.Size([1, 512])\n",
      "question_feature: torch.Size([1, 512])\n",
      "image_feature: torch.Size([1, 512])\n",
      "question_feature: torch.Size([1, 512])\n",
      "image_feature: torch.Size([1, 512])\n",
      "question_feature: torch.Size([1, 512])\n",
      "image_feature: torch.Size([1, 512])\n",
      "question_feature: torch.Size([1, 512])\n",
      "image_feature: torch.Size([1, 512])\n"
     ]
    },
    {
     "name": "stderr",
     "output_type": "stream",
     "text": [
      " 13%|█▎        | 645/4969 [00:17<02:08, 33.69it/s]"
     ]
    },
    {
     "name": "stdout",
     "output_type": "stream",
     "text": [
      "question_feature: torch.Size([1, 512])\n",
      "image_feature: torch.Size([1, 512])\n",
      "question_feature: torch.Size([1, 512])\n",
      "image_feature: torch.Size([1, 512])\n",
      "question_feature: torch.Size([1, 512])\n",
      "image_feature: torch.Size([1, 512])\n",
      "question_feature: torch.Size([1, 512])\n",
      "image_feature: torch.Size([1, 512])\n",
      "question_feature: torch.Size([1, 512])\n",
      "image_feature: torch.Size([1, 512])\n",
      "question_feature: torch.Size([1, 512])\n",
      "image_feature: torch.Size([1, 512])\n",
      "question_feature: torch.Size([1, 512])\n",
      "image_feature: torch.Size([1, 512])\n",
      "question_feature: torch.Size([1, 512])\n",
      "image_feature: torch.Size([1, 512])\n"
     ]
    },
    {
     "name": "stderr",
     "output_type": "stream",
     "text": [
      " 13%|█▎        | 649/4969 [00:17<02:05, 34.38it/s]"
     ]
    },
    {
     "name": "stdout",
     "output_type": "stream",
     "text": [
      "question_feature: torch.Size([1, 512])\n",
      "image_feature: torch.Size([1, 512])\n",
      "question_feature: torch.Size([1, 512])\n",
      "image_feature: torch.Size([1, 512])\n",
      "question_feature: torch.Size([1, 512])\n",
      "image_feature: torch.Size([1, 512])\n",
      "question_feature: torch.Size([1, 512])\n",
      "image_feature: torch.Size([1, 512])\n",
      "question_feature: torch.Size([1, 512])\n",
      "image_feature: torch.Size([1, 512])\n",
      "question_feature: torch.Size([1, 512])\n",
      "image_feature: torch.Size([1, 512])\n",
      "question_feature: torch.Size([1, 512])\n",
      "image_feature: torch.Size([1, 512])\n"
     ]
    },
    {
     "name": "stderr",
     "output_type": "stream",
     "text": [
      " 13%|█▎        | 658/4969 [00:18<01:55, 37.32it/s]"
     ]
    },
    {
     "name": "stdout",
     "output_type": "stream",
     "text": [
      "question_feature: torch.Size([1, 512])\n",
      "image_feature: torch.Size([1, 512])\n",
      "question_feature: torch.Size([1, 512])\n",
      "image_feature: torch.Size([1, 512])\n",
      "question_feature: torch.Size([1, 512])\n",
      "image_feature: torch.Size([1, 512])\n",
      "question_feature: torch.Size([1, 512])\n",
      "image_feature: torch.Size([1, 512])\n",
      "question_feature: torch.Size([1, 512])\n",
      "image_feature: torch.Size([1, 512])\n",
      "question_feature: torch.Size([1, 512])\n",
      "image_feature: torch.Size([1, 512])\n",
      "question_feature: torch.Size([1, 512])\n",
      "image_feature: torch.Size([1, 512])\n",
      "question_feature: torch.Size([1, 512])\n",
      "image_feature: torch.Size([1, 512])\n",
      "question_feature: torch.Size([1, 512])\n",
      "image_feature: torch.Size([1, 512])\n"
     ]
    },
    {
     "name": "stderr",
     "output_type": "stream",
     "text": [
      " 13%|█▎        | 666/4969 [00:18<01:57, 36.76it/s]"
     ]
    },
    {
     "name": "stdout",
     "output_type": "stream",
     "text": [
      "question_feature: torch.Size([1, 512])\n",
      "image_feature: torch.Size([1, 512])\n",
      "question_feature: torch.Size([1, 512])\n",
      "image_feature: torch.Size([1, 512])\n",
      "question_feature: torch.Size([1, 512])\n",
      "image_feature: torch.Size([1, 512])\n",
      "question_feature: torch.Size([1, 512])\n",
      "image_feature: torch.Size([1, 512])\n",
      "question_feature: torch.Size([1, 512])\n",
      "image_feature: torch.Size([1, 512])\n",
      "question_feature: torch.Size([1, 512])\n",
      "image_feature: torch.Size([1, 512])\n",
      "question_feature: torch.Size([1, 512])\n",
      "image_feature: torch.Size([1, 512])\n"
     ]
    },
    {
     "name": "stderr",
     "output_type": "stream",
     "text": [
      " 14%|█▎        | 674/4969 [00:18<02:00, 35.55it/s]"
     ]
    },
    {
     "name": "stdout",
     "output_type": "stream",
     "text": [
      "question_feature: torch.Size([1, 512])\n",
      "image_feature: torch.Size([1, 512])\n",
      "question_feature: torch.Size([1, 512])\n",
      "image_feature: torch.Size([1, 512])\n",
      "question_feature: torch.Size([1, 512])\n",
      "image_feature: torch.Size([1, 512])\n",
      "question_feature: torch.Size([1, 512])\n",
      "image_feature: torch.Size([1, 512])\n",
      "question_feature: torch.Size([1, 512])\n",
      "image_feature: torch.Size([1, 512])\n",
      "question_feature: torch.Size([1, 512])\n",
      "image_feature: torch.Size([1, 512])\n",
      "question_feature: torch.Size([1, 512])\n",
      "image_feature: torch.Size([1, 512])\n",
      "question_feature: torch.Size([1, 512])\n",
      "image_feature: torch.Size([1, 512])\n",
      "question_feature: torch.Size([1, 512])\n",
      "image_feature: torch.Size([1, 512])\n"
     ]
    },
    {
     "name": "stderr",
     "output_type": "stream",
     "text": [
      " 14%|█▍        | 685/4969 [00:18<01:39, 43.15it/s]"
     ]
    },
    {
     "name": "stdout",
     "output_type": "stream",
     "text": [
      "question_feature: torch.Size([1, 512])\n",
      "image_feature: torch.Size([1, 512])\n",
      "question_feature: torch.Size([1, 512])\n",
      "image_feature: torch.Size([1, 512])\n",
      "question_feature: torch.Size([1, 512])\n",
      "image_feature: torch.Size([1, 512])\n",
      "question_feature: torch.Size([1, 512])\n",
      "image_feature: torch.Size([1, 512])\n",
      "question_feature: torch.Size([1, 512])\n",
      "image_feature: torch.Size([1, 512])\n",
      "question_feature: torch.Size([1, 512])\n",
      "image_feature: torch.Size([1, 512])\n",
      "question_feature: torch.Size([1, 512])\n",
      "image_feature: torch.Size([1, 512])\n",
      "question_feature: torch.Size([1, 512])\n",
      "image_feature: torch.Size([1, 512])\n",
      "question_feature: torch.Size([1, 512])\n",
      "image_feature: torch.Size([1, 512])\n",
      "question_feature: torch.Size([1, 512])\n",
      "image_feature: torch.Size([1, 512])\n"
     ]
    },
    {
     "name": "stderr",
     "output_type": "stream",
     "text": [
      " 14%|█▍        | 688/4969 [00:18<01:57, 36.47it/s]\n"
     ]
    },
    {
     "name": "stdout",
     "output_type": "stream",
     "text": [
      "question_feature: torch.Size([1, 512])\n",
      "image_feature: torch.Size([1, 512])\n"
     ]
    },
    {
     "ename": "KeyboardInterrupt",
     "evalue": "",
     "output_type": "error",
     "traceback": [
      "\u001b[1;31m---------------------------------------------------------------------------\u001b[0m",
      "\u001b[1;31mKeyboardInterrupt\u001b[0m                         Traceback (most recent call last)",
      "Cell \u001b[1;32mIn[77], line 4\u001b[0m\n\u001b[0;32m      2\u001b[0m model\u001b[38;5;241m.\u001b[39meval()\n\u001b[0;32m      3\u001b[0m submission \u001b[38;5;241m=\u001b[39m []\n\u001b[1;32m----> 4\u001b[0m \u001b[38;5;28;01mfor\u001b[39;00m image, question, question_vector \u001b[38;5;129;01min\u001b[39;00m tqdm(test_loader):\n\u001b[0;32m      5\u001b[0m     image, question, question_vector \u001b[38;5;241m=\u001b[39m image\u001b[38;5;241m.\u001b[39mto(device), question\u001b[38;5;241m.\u001b[39mto(device), question_vector\u001b[38;5;241m.\u001b[39mto(device)\n\u001b[0;32m      6\u001b[0m     pred \u001b[38;5;241m=\u001b[39m model(image, question_vector)\n",
      "File \u001b[1;32mc:\\Users\\ATSUHIRO\\anaconda3\\envs\\dl_competition\\lib\\site-packages\\tqdm\\std.py:1181\u001b[0m, in \u001b[0;36mtqdm.__iter__\u001b[1;34m(self)\u001b[0m\n\u001b[0;32m   1178\u001b[0m time \u001b[38;5;241m=\u001b[39m \u001b[38;5;28mself\u001b[39m\u001b[38;5;241m.\u001b[39m_time\n\u001b[0;32m   1180\u001b[0m \u001b[38;5;28;01mtry\u001b[39;00m:\n\u001b[1;32m-> 1181\u001b[0m     \u001b[38;5;28;01mfor\u001b[39;00m obj \u001b[38;5;129;01min\u001b[39;00m iterable:\n\u001b[0;32m   1182\u001b[0m         \u001b[38;5;28;01myield\u001b[39;00m obj\n\u001b[0;32m   1183\u001b[0m         \u001b[38;5;66;03m# Update and possibly print the progressbar.\u001b[39;00m\n\u001b[0;32m   1184\u001b[0m         \u001b[38;5;66;03m# Note: does not call self.update(1) for speed optimisation.\u001b[39;00m\n",
      "File \u001b[1;32mc:\\Users\\ATSUHIRO\\anaconda3\\envs\\dl_competition\\lib\\site-packages\\torch\\utils\\data\\dataloader.py:631\u001b[0m, in \u001b[0;36m_BaseDataLoaderIter.__next__\u001b[1;34m(self)\u001b[0m\n\u001b[0;32m    628\u001b[0m \u001b[38;5;28;01mif\u001b[39;00m \u001b[38;5;28mself\u001b[39m\u001b[38;5;241m.\u001b[39m_sampler_iter \u001b[38;5;129;01mis\u001b[39;00m \u001b[38;5;28;01mNone\u001b[39;00m:\n\u001b[0;32m    629\u001b[0m     \u001b[38;5;66;03m# TODO(https://github.com/pytorch/pytorch/issues/76750)\u001b[39;00m\n\u001b[0;32m    630\u001b[0m     \u001b[38;5;28mself\u001b[39m\u001b[38;5;241m.\u001b[39m_reset()  \u001b[38;5;66;03m# type: ignore[call-arg]\u001b[39;00m\n\u001b[1;32m--> 631\u001b[0m data \u001b[38;5;241m=\u001b[39m \u001b[38;5;28;43mself\u001b[39;49m\u001b[38;5;241;43m.\u001b[39;49m\u001b[43m_next_data\u001b[49m\u001b[43m(\u001b[49m\u001b[43m)\u001b[49m\n\u001b[0;32m    632\u001b[0m \u001b[38;5;28mself\u001b[39m\u001b[38;5;241m.\u001b[39m_num_yielded \u001b[38;5;241m+\u001b[39m\u001b[38;5;241m=\u001b[39m \u001b[38;5;241m1\u001b[39m\n\u001b[0;32m    633\u001b[0m \u001b[38;5;28;01mif\u001b[39;00m \u001b[38;5;28mself\u001b[39m\u001b[38;5;241m.\u001b[39m_dataset_kind \u001b[38;5;241m==\u001b[39m _DatasetKind\u001b[38;5;241m.\u001b[39mIterable \u001b[38;5;129;01mand\u001b[39;00m \\\n\u001b[0;32m    634\u001b[0m         \u001b[38;5;28mself\u001b[39m\u001b[38;5;241m.\u001b[39m_IterableDataset_len_called \u001b[38;5;129;01mis\u001b[39;00m \u001b[38;5;129;01mnot\u001b[39;00m \u001b[38;5;28;01mNone\u001b[39;00m \u001b[38;5;129;01mand\u001b[39;00m \\\n\u001b[0;32m    635\u001b[0m         \u001b[38;5;28mself\u001b[39m\u001b[38;5;241m.\u001b[39m_num_yielded \u001b[38;5;241m>\u001b[39m \u001b[38;5;28mself\u001b[39m\u001b[38;5;241m.\u001b[39m_IterableDataset_len_called:\n",
      "File \u001b[1;32mc:\\Users\\ATSUHIRO\\anaconda3\\envs\\dl_competition\\lib\\site-packages\\torch\\utils\\data\\dataloader.py:675\u001b[0m, in \u001b[0;36m_SingleProcessDataLoaderIter._next_data\u001b[1;34m(self)\u001b[0m\n\u001b[0;32m    673\u001b[0m \u001b[38;5;28;01mdef\u001b[39;00m \u001b[38;5;21m_next_data\u001b[39m(\u001b[38;5;28mself\u001b[39m):\n\u001b[0;32m    674\u001b[0m     index \u001b[38;5;241m=\u001b[39m \u001b[38;5;28mself\u001b[39m\u001b[38;5;241m.\u001b[39m_next_index()  \u001b[38;5;66;03m# may raise StopIteration\u001b[39;00m\n\u001b[1;32m--> 675\u001b[0m     data \u001b[38;5;241m=\u001b[39m \u001b[38;5;28;43mself\u001b[39;49m\u001b[38;5;241;43m.\u001b[39;49m\u001b[43m_dataset_fetcher\u001b[49m\u001b[38;5;241;43m.\u001b[39;49m\u001b[43mfetch\u001b[49m\u001b[43m(\u001b[49m\u001b[43mindex\u001b[49m\u001b[43m)\u001b[49m  \u001b[38;5;66;03m# may raise StopIteration\u001b[39;00m\n\u001b[0;32m    676\u001b[0m     \u001b[38;5;28;01mif\u001b[39;00m \u001b[38;5;28mself\u001b[39m\u001b[38;5;241m.\u001b[39m_pin_memory:\n\u001b[0;32m    677\u001b[0m         data \u001b[38;5;241m=\u001b[39m _utils\u001b[38;5;241m.\u001b[39mpin_memory\u001b[38;5;241m.\u001b[39mpin_memory(data, \u001b[38;5;28mself\u001b[39m\u001b[38;5;241m.\u001b[39m_pin_memory_device)\n",
      "File \u001b[1;32mc:\\Users\\ATSUHIRO\\anaconda3\\envs\\dl_competition\\lib\\site-packages\\torch\\utils\\data\\_utils\\fetch.py:51\u001b[0m, in \u001b[0;36m_MapDatasetFetcher.fetch\u001b[1;34m(self, possibly_batched_index)\u001b[0m\n\u001b[0;32m     49\u001b[0m         data \u001b[38;5;241m=\u001b[39m \u001b[38;5;28mself\u001b[39m\u001b[38;5;241m.\u001b[39mdataset\u001b[38;5;241m.\u001b[39m__getitems__(possibly_batched_index)\n\u001b[0;32m     50\u001b[0m     \u001b[38;5;28;01melse\u001b[39;00m:\n\u001b[1;32m---> 51\u001b[0m         data \u001b[38;5;241m=\u001b[39m [\u001b[38;5;28mself\u001b[39m\u001b[38;5;241m.\u001b[39mdataset[idx] \u001b[38;5;28;01mfor\u001b[39;00m idx \u001b[38;5;129;01min\u001b[39;00m possibly_batched_index]\n\u001b[0;32m     52\u001b[0m \u001b[38;5;28;01melse\u001b[39;00m:\n\u001b[0;32m     53\u001b[0m     data \u001b[38;5;241m=\u001b[39m \u001b[38;5;28mself\u001b[39m\u001b[38;5;241m.\u001b[39mdataset[possibly_batched_index]\n",
      "File \u001b[1;32mc:\\Users\\ATSUHIRO\\anaconda3\\envs\\dl_competition\\lib\\site-packages\\torch\\utils\\data\\_utils\\fetch.py:51\u001b[0m, in \u001b[0;36m<listcomp>\u001b[1;34m(.0)\u001b[0m\n\u001b[0;32m     49\u001b[0m         data \u001b[38;5;241m=\u001b[39m \u001b[38;5;28mself\u001b[39m\u001b[38;5;241m.\u001b[39mdataset\u001b[38;5;241m.\u001b[39m__getitems__(possibly_batched_index)\n\u001b[0;32m     50\u001b[0m     \u001b[38;5;28;01melse\u001b[39;00m:\n\u001b[1;32m---> 51\u001b[0m         data \u001b[38;5;241m=\u001b[39m [\u001b[38;5;28;43mself\u001b[39;49m\u001b[38;5;241;43m.\u001b[39;49m\u001b[43mdataset\u001b[49m\u001b[43m[\u001b[49m\u001b[43midx\u001b[49m\u001b[43m]\u001b[49m \u001b[38;5;28;01mfor\u001b[39;00m idx \u001b[38;5;129;01min\u001b[39;00m possibly_batched_index]\n\u001b[0;32m     52\u001b[0m \u001b[38;5;28;01melse\u001b[39;00m:\n\u001b[0;32m     53\u001b[0m     data \u001b[38;5;241m=\u001b[39m \u001b[38;5;28mself\u001b[39m\u001b[38;5;241m.\u001b[39mdataset[possibly_batched_index]\n",
      "Cell \u001b[1;32mIn[57], line 86\u001b[0m, in \u001b[0;36mVQADataset.__getitem__\u001b[1;34m(self, idx, isKL)\u001b[0m\n\u001b[0;32m     66\u001b[0m \u001b[38;5;28;01mdef\u001b[39;00m \u001b[38;5;21m__getitem__\u001b[39m(\u001b[38;5;28mself\u001b[39m, idx, isKL\u001b[38;5;241m=\u001b[39m\u001b[38;5;28;01mFalse\u001b[39;00m):\n\u001b[0;32m     67\u001b[0m \u001b[38;5;250m    \u001b[39m\u001b[38;5;124;03m\"\"\"\u001b[39;00m\n\u001b[0;32m     68\u001b[0m \u001b[38;5;124;03m    対応するidxのデータ（画像，質問，回答）を取得．\u001b[39;00m\n\u001b[0;32m     69\u001b[0m \n\u001b[1;32m   (...)\u001b[0m\n\u001b[0;32m     84\u001b[0m \u001b[38;5;124;03m        10人の回答者の回答の中で最頻値の回答のid\u001b[39;00m\n\u001b[0;32m     85\u001b[0m \u001b[38;5;124;03m    \"\"\"\u001b[39;00m\n\u001b[1;32m---> 86\u001b[0m     image \u001b[38;5;241m=\u001b[39m \u001b[43mImage\u001b[49m\u001b[38;5;241;43m.\u001b[39;49m\u001b[43mopen\u001b[49m\u001b[43m(\u001b[49m\u001b[38;5;124;43mf\u001b[39;49m\u001b[38;5;124;43m\"\u001b[39;49m\u001b[38;5;132;43;01m{\u001b[39;49;00m\u001b[38;5;28;43mself\u001b[39;49m\u001b[38;5;241;43m.\u001b[39;49m\u001b[43mimage_dir\u001b[49m\u001b[38;5;132;43;01m}\u001b[39;49;00m\u001b[38;5;124;43m/\u001b[39;49m\u001b[38;5;132;43;01m{\u001b[39;49;00m\u001b[38;5;28;43mself\u001b[39;49m\u001b[38;5;241;43m.\u001b[39;49m\u001b[43mdf\u001b[49m\u001b[43m[\u001b[49m\u001b[38;5;124;43m'\u001b[39;49m\u001b[38;5;124;43mimage\u001b[39;49m\u001b[38;5;124;43m'\u001b[39;49m\u001b[43m]\u001b[49m\u001b[43m[\u001b[49m\u001b[43midx\u001b[49m\u001b[43m]\u001b[49m\u001b[38;5;132;43;01m}\u001b[39;49;00m\u001b[38;5;124;43m\"\u001b[39;49m\u001b[43m)\u001b[49m\u001b[38;5;241;43m.\u001b[39;49m\u001b[43mconvert\u001b[49m\u001b[43m(\u001b[49m\u001b[38;5;124;43m\"\u001b[39;49m\u001b[38;5;124;43mRGB\u001b[39;49m\u001b[38;5;124;43m\"\u001b[39;49m\u001b[43m)\u001b[49m\n\u001b[0;32m     88\u001b[0m     \u001b[38;5;66;03m# image = self.transform(image)\u001b[39;00m\n\u001b[0;32m     89\u001b[0m     question \u001b[38;5;241m=\u001b[39m np\u001b[38;5;241m.\u001b[39mzeros(\u001b[38;5;28mlen\u001b[39m(\u001b[38;5;28mself\u001b[39m\u001b[38;5;241m.\u001b[39midx2question) \u001b[38;5;241m+\u001b[39m \u001b[38;5;241m1\u001b[39m)  \u001b[38;5;66;03m# 未知語用の要素を追加\u001b[39;00m\n",
      "File \u001b[1;32mc:\\Users\\ATSUHIRO\\anaconda3\\envs\\dl_competition\\lib\\site-packages\\PIL\\Image.py:941\u001b[0m, in \u001b[0;36mImage.convert\u001b[1;34m(self, mode, matrix, dither, palette, colors)\u001b[0m\n\u001b[0;32m    889\u001b[0m \u001b[38;5;28;01mdef\u001b[39;00m \u001b[38;5;21mconvert\u001b[39m(\n\u001b[0;32m    890\u001b[0m     \u001b[38;5;28mself\u001b[39m,\n\u001b[0;32m    891\u001b[0m     mode: \u001b[38;5;28mstr\u001b[39m \u001b[38;5;241m|\u001b[39m \u001b[38;5;28;01mNone\u001b[39;00m \u001b[38;5;241m=\u001b[39m \u001b[38;5;28;01mNone\u001b[39;00m,\n\u001b[1;32m   (...)\u001b[0m\n\u001b[0;32m    895\u001b[0m     colors: \u001b[38;5;28mint\u001b[39m \u001b[38;5;241m=\u001b[39m \u001b[38;5;241m256\u001b[39m,\n\u001b[0;32m    896\u001b[0m ) \u001b[38;5;241m-\u001b[39m\u001b[38;5;241m>\u001b[39m Image:\n\u001b[0;32m    897\u001b[0m \u001b[38;5;250m    \u001b[39m\u001b[38;5;124;03m\"\"\"\u001b[39;00m\n\u001b[0;32m    898\u001b[0m \u001b[38;5;124;03m    Returns a converted copy of this image. For the \"P\" mode, this\u001b[39;00m\n\u001b[0;32m    899\u001b[0m \u001b[38;5;124;03m    method translates pixels through the palette.  If mode is\u001b[39;00m\n\u001b[1;32m   (...)\u001b[0m\n\u001b[0;32m    938\u001b[0m \u001b[38;5;124;03m    :returns: An :py:class:`~PIL.Image.Image` object.\u001b[39;00m\n\u001b[0;32m    939\u001b[0m \u001b[38;5;124;03m    \"\"\"\u001b[39;00m\n\u001b[1;32m--> 941\u001b[0m     \u001b[38;5;28;43mself\u001b[39;49m\u001b[38;5;241;43m.\u001b[39;49m\u001b[43mload\u001b[49m\u001b[43m(\u001b[49m\u001b[43m)\u001b[49m\n\u001b[0;32m    943\u001b[0m     has_transparency \u001b[38;5;241m=\u001b[39m \u001b[38;5;124m\"\u001b[39m\u001b[38;5;124mtransparency\u001b[39m\u001b[38;5;124m\"\u001b[39m \u001b[38;5;129;01min\u001b[39;00m \u001b[38;5;28mself\u001b[39m\u001b[38;5;241m.\u001b[39minfo\n\u001b[0;32m    944\u001b[0m     \u001b[38;5;28;01mif\u001b[39;00m \u001b[38;5;129;01mnot\u001b[39;00m mode \u001b[38;5;129;01mand\u001b[39;00m \u001b[38;5;28mself\u001b[39m\u001b[38;5;241m.\u001b[39mmode \u001b[38;5;241m==\u001b[39m \u001b[38;5;124m\"\u001b[39m\u001b[38;5;124mP\u001b[39m\u001b[38;5;124m\"\u001b[39m:\n\u001b[0;32m    945\u001b[0m         \u001b[38;5;66;03m# determine default mode\u001b[39;00m\n",
      "File \u001b[1;32mc:\\Users\\ATSUHIRO\\anaconda3\\envs\\dl_competition\\lib\\site-packages\\PIL\\ImageFile.py:291\u001b[0m, in \u001b[0;36mImageFile.load\u001b[1;34m(self)\u001b[0m\n\u001b[0;32m    288\u001b[0m         \u001b[38;5;28;01mraise\u001b[39;00m \u001b[38;5;167;01mOSError\u001b[39;00m(msg)\n\u001b[0;32m    290\u001b[0m b \u001b[38;5;241m=\u001b[39m b \u001b[38;5;241m+\u001b[39m s\n\u001b[1;32m--> 291\u001b[0m n, err_code \u001b[38;5;241m=\u001b[39m \u001b[43mdecoder\u001b[49m\u001b[38;5;241;43m.\u001b[39;49m\u001b[43mdecode\u001b[49m\u001b[43m(\u001b[49m\u001b[43mb\u001b[49m\u001b[43m)\u001b[49m\n\u001b[0;32m    292\u001b[0m \u001b[38;5;28;01mif\u001b[39;00m n \u001b[38;5;241m<\u001b[39m \u001b[38;5;241m0\u001b[39m:\n\u001b[0;32m    293\u001b[0m     \u001b[38;5;28;01mbreak\u001b[39;00m\n",
      "\u001b[1;31mKeyboardInterrupt\u001b[0m: "
     ]
    }
   ],
   "source": [
    "# 提出用ファイルの作成\n",
    "model.eval()\n",
    "submission = []\n",
    "for image, question, question_vector in tqdm(test_loader):\n",
    "    image, question, question_vector = image.to(device), question.to(device), question_vector.to(device)\n",
    "    pred = model(image, question_vector)\n",
    "    pred = pred.argmax(1).cpu().item()\n",
    "    submission.append(pred)\n",
    "\n",
    "submission = [train_dataset.idx2answer[id] for id in submission]\n",
    "submission = np.array(submission)\n",
    "torch.save(model.state_dict(), \"model.pth\")\n",
    "np.save(\"submission.npy\", submission)"
   ]
  },
  {
   "cell_type": "code",
   "execution_count": null,
   "metadata": {},
   "outputs": [],
   "source": [
    "plt.plot(num_epoch, train_loss_hist, 'bo', label='Training loss')\n",
    "plt.plot(num_epoch, train_acc_hist, 'b', label='Validation loss')\n",
    "plt.title('Training and validation loss')\n",
    "plt.legend()"
   ]
  },
  {
   "cell_type": "code",
   "execution_count": null,
   "metadata": {},
   "outputs": [],
   "source": [
    "plt.plot(num_epoch, train_lr_hist, 'b', label='Learning rate')\n",
    "plt.title('Training and validation loss')\n",
    "plt.legend()"
   ]
  }
 ],
 "metadata": {
  "kernelspec": {
   "display_name": "dl_competition",
   "language": "python",
   "name": "python3"
  },
  "language_info": {
   "codemirror_mode": {
    "name": "ipython",
    "version": 3
   },
   "file_extension": ".py",
   "mimetype": "text/x-python",
   "name": "python",
   "nbconvert_exporter": "python",
   "pygments_lexer": "ipython3",
   "version": "3.10.14"
  }
 },
 "nbformat": 4,
 "nbformat_minor": 2
}
